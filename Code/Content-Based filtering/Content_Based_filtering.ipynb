{
  "nbformat": 4,
  "nbformat_minor": 0,
  "metadata": {
    "colab": {
      "name": "Content_Based_filtering.ipynb",
      "provenance": [],
      "collapsed_sections": [
        "M3P0VC3Z0QKp",
        "p8zeybSl0tBN"
      ],
      "toc_visible": true
    },
    "kernelspec": {
      "name": "python3",
      "display_name": "Python 3"
    },
    "language_info": {
      "name": "python"
    }
  },
  "cells": [
    {
      "cell_type": "markdown",
      "metadata": {
        "id": "S75a5ceg4tuN"
      },
      "source": [
        "# Import Libraries"
      ]
    },
    {
      "cell_type": "code",
      "metadata": {
        "colab": {
          "base_uri": "https://localhost:8080/"
        },
        "id": "P_b11r4xYOXG",
        "outputId": "f9094dda-e1bb-4275-8176-9d2cb0ed8fb7"
      },
      "source": [
        "# Importing necessary libraries\n",
        "import pandas as pd\n",
        "import numpy as np\n",
        "import nltk\n",
        "nltk.download('stopwords')\n",
        "from nltk.corpus import stopwords\n",
        "from sklearn.metrics.pairwise import linear_kernel\n",
        "from sklearn.feature_extraction.text import CountVectorizer\n",
        "from sklearn.feature_extraction.text import TfidfVectorizer\n",
        "from nltk.tokenize import RegexpTokenizer\n",
        "import re\n",
        "import string\n",
        "import random\n",
        "from PIL import Image\n",
        "import requests\n",
        "from io import BytesIO\n",
        "import matplotlib.pyplot as plt\n",
        "%matplotlib inline\n",
        "from sklearn.metrics.pairwise import cosine_similarity\n",
        "from gensim.models import Word2Vec\n",
        "from gensim.models.phrases import Phrases, Phraser\n",
        "from matplotlib import pyplot\n",
        "from gensim.models import KeyedVectors"
      ],
      "execution_count": 1,
      "outputs": [
        {
          "output_type": "stream",
          "text": [
            "[nltk_data] Downloading package stopwords to /root/nltk_data...\n",
            "[nltk_data]   Unzipping corpora/stopwords.zip.\n"
          ],
          "name": "stdout"
        }
      ]
    },
    {
      "cell_type": "code",
      "metadata": {
        "id": "dN7-opWoYXjj"
      },
      "source": [
        "import warnings\n",
        "warnings.filterwarnings('ignore')"
      ],
      "execution_count": 2,
      "outputs": []
    },
    {
      "cell_type": "markdown",
      "metadata": {
        "id": "b03L1cR9dUE7"
      },
      "source": [
        "# Data Transformation"
      ]
    },
    {
      "cell_type": "code",
      "metadata": {
        "colab": {
          "base_uri": "https://localhost:8080/",
          "height": 212
        },
        "id": "ERlJ3dfmYaLe",
        "outputId": "358e97f8-c900-4215-8e2a-e4f1a3c9a7ea"
      },
      "source": [
        "# Read description dataset and assign it to the variable d\n",
        "d = pd.read_csv(\"description.csv\", encoding=\"latin_1\")\n",
        "print(d.shape)\n",
        "d.head()"
      ],
      "execution_count": 4,
      "outputs": [
        {
          "output_type": "stream",
          "text": [
            "(122, 3)\n"
          ],
          "name": "stdout"
        },
        {
          "output_type": "execute_result",
          "data": {
            "text/html": [
              "<div>\n",
              "<style scoped>\n",
              "    .dataframe tbody tr th:only-of-type {\n",
              "        vertical-align: middle;\n",
              "    }\n",
              "\n",
              "    .dataframe tbody tr th {\n",
              "        vertical-align: top;\n",
              "    }\n",
              "\n",
              "    .dataframe thead th {\n",
              "        text-align: right;\n",
              "    }\n",
              "</style>\n",
              "<table border=\"1\" class=\"dataframe\">\n",
              "  <thead>\n",
              "    <tr style=\"text-align: right;\">\n",
              "      <th></th>\n",
              "      <th>book_id</th>\n",
              "      <th>name</th>\n",
              "      <th>description</th>\n",
              "    </tr>\n",
              "  </thead>\n",
              "  <tbody>\n",
              "    <tr>\n",
              "      <th>0</th>\n",
              "      <td>4833</td>\n",
              "      <td>The Glass Castle</td>\n",
              "      <td>A tender, moving tale of unconditional love in...</td>\n",
              "    </tr>\n",
              "    <tr>\n",
              "      <th>1</th>\n",
              "      <td>590</td>\n",
              "      <td>Night (The Night Trilogy, #1)</td>\n",
              "      <td>Born into a Jewish ghetto in Hungary, as a chi...</td>\n",
              "    </tr>\n",
              "    <tr>\n",
              "      <th>2</th>\n",
              "      <td>4264</td>\n",
              "      <td>Angela's Ashes (Frank McCourt, #1)</td>\n",
              "      <td>Imbued on every page with Frank McCourt's asto...</td>\n",
              "    </tr>\n",
              "    <tr>\n",
              "      <th>3</th>\n",
              "      <td>3361</td>\n",
              "      <td>Eat, Pray, Love</td>\n",
              "      <td>A celebrated writer's irresistible, candid, an...</td>\n",
              "    </tr>\n",
              "    <tr>\n",
              "      <th>4</th>\n",
              "      <td>4535</td>\n",
              "      <td>Into Thin Air: A Personal Account of the Mount...</td>\n",
              "      <td>A bank of clouds was assembling on the not-so-...</td>\n",
              "    </tr>\n",
              "  </tbody>\n",
              "</table>\n",
              "</div>"
            ],
            "text/plain": [
              "   book_id  ...                                        description\n",
              "0     4833  ...  A tender, moving tale of unconditional love in...\n",
              "1      590  ...  Born into a Jewish ghetto in Hungary, as a chi...\n",
              "2     4264  ...  Imbued on every page with Frank McCourt's asto...\n",
              "3     3361  ...  A celebrated writer's irresistible, candid, an...\n",
              "4     4535  ...  A bank of clouds was assembling on the not-so-...\n",
              "\n",
              "[5 rows x 3 columns]"
            ]
          },
          "metadata": {
            "tags": []
          },
          "execution_count": 4
        }
      ]
    },
    {
      "cell_type": "code",
      "metadata": {
        "id": "_Iii9w2vpYxf"
      },
      "source": [
        "# Drops all rows that has NaN value\n",
        "d.dropna(inplace=True)"
      ],
      "execution_count": 5,
      "outputs": []
    },
    {
      "cell_type": "code",
      "metadata": {
        "colab": {
          "base_uri": "https://localhost:8080/"
        },
        "id": "E550qYFDphYU",
        "outputId": "87e322d0-002e-4477-c916-6a4ab2d874da"
      },
      "source": [
        "# print shape of the description dataset\n",
        "d.shape"
      ],
      "execution_count": 6,
      "outputs": [
        {
          "output_type": "execute_result",
          "data": {
            "text/plain": [
              "(122, 3)"
            ]
          },
          "metadata": {
            "tags": []
          },
          "execution_count": 6
        }
      ]
    },
    {
      "cell_type": "code",
      "metadata": {
        "colab": {
          "base_uri": "https://localhost:8080/",
          "height": 212
        },
        "id": "lbNHOWn7gcbA",
        "outputId": "35eacd26-6a28-4627-e409-807dfb3da0c3"
      },
      "source": [
        "# Read listing dataset and assign it to the variable l\n",
        "l = pd.read_csv('listing.csv', encoding=\"latin_1\")\n",
        "print(l.shape)\n",
        "l.head()"
      ],
      "execution_count": 8,
      "outputs": [
        {
          "output_type": "stream",
          "text": [
            "(1089, 4)\n"
          ],
          "name": "stdout"
        },
        {
          "output_type": "execute_result",
          "data": {
            "text/html": [
              "<div>\n",
              "<style scoped>\n",
              "    .dataframe tbody tr th:only-of-type {\n",
              "        vertical-align: middle;\n",
              "    }\n",
              "\n",
              "    .dataframe tbody tr th {\n",
              "        vertical-align: top;\n",
              "    }\n",
              "\n",
              "    .dataframe thead th {\n",
              "        text-align: right;\n",
              "    }\n",
              "</style>\n",
              "<table border=\"1\" class=\"dataframe\">\n",
              "  <thead>\n",
              "    <tr style=\"text-align: right;\">\n",
              "      <th></th>\n",
              "      <th>book_id</th>\n",
              "      <th>genre</th>\n",
              "      <th>name</th>\n",
              "      <th>author</th>\n",
              "    </tr>\n",
              "  </thead>\n",
              "  <tbody>\n",
              "    <tr>\n",
              "      <th>0</th>\n",
              "      <td>4833</td>\n",
              "      <td>Biographies &amp; Memoirs</td>\n",
              "      <td>The Glass Castle</td>\n",
              "      <td>Jeannette Walls</td>\n",
              "    </tr>\n",
              "    <tr>\n",
              "      <th>1</th>\n",
              "      <td>590</td>\n",
              "      <td>Biographies &amp; Memoirs</td>\n",
              "      <td>Night (The Night Trilogy, #1)</td>\n",
              "      <td>Elie Wiesel</td>\n",
              "    </tr>\n",
              "    <tr>\n",
              "      <th>2</th>\n",
              "      <td>4264</td>\n",
              "      <td>Biographies &amp; Memoirs</td>\n",
              "      <td>Angela's Ashes (Frank McCourt, #1)</td>\n",
              "      <td>Frank McCourt</td>\n",
              "    </tr>\n",
              "    <tr>\n",
              "      <th>3</th>\n",
              "      <td>3361</td>\n",
              "      <td>Biographies &amp; Memoirs</td>\n",
              "      <td>Eat, Pray, Love</td>\n",
              "      <td>Elizabeth Gilbert</td>\n",
              "    </tr>\n",
              "    <tr>\n",
              "      <th>4</th>\n",
              "      <td>4535</td>\n",
              "      <td>Biographies &amp; Memoirs</td>\n",
              "      <td>Into Thin Air: A Personal Account of the Mount...</td>\n",
              "      <td>Jon Krakauer</td>\n",
              "    </tr>\n",
              "  </tbody>\n",
              "</table>\n",
              "</div>"
            ],
            "text/plain": [
              "   book_id  ...             author\n",
              "0     4833  ...    Jeannette Walls\n",
              "1      590  ...        Elie Wiesel\n",
              "2     4264  ...      Frank McCourt\n",
              "3     3361  ...  Elizabeth Gilbert\n",
              "4     4535  ...       Jon Krakauer\n",
              "\n",
              "[5 rows x 4 columns]"
            ]
          },
          "metadata": {
            "tags": []
          },
          "execution_count": 8
        }
      ]
    },
    {
      "cell_type": "code",
      "metadata": {
        "id": "77pTby4RjW6A"
      },
      "source": [
        "# Drops duplicates rows that has the column 'book_id'\n",
        "l.drop_duplicates('book_id', inplace=True)"
      ],
      "execution_count": 9,
      "outputs": []
    },
    {
      "cell_type": "code",
      "metadata": {
        "colab": {
          "base_uri": "https://localhost:8080/"
        },
        "id": "Gy5Jpicojf48",
        "outputId": "75ccdcb0-6c70-4a8f-e25a-af217cf2b981"
      },
      "source": [
        "# Merge the dataset description (d) and listing (l) on the columns 'book_id' and 'name'\n",
        "df = pd.merge(d,\n",
        "              l,\n",
        "              on=['book_id', 'name'], \n",
        "              how='left')\n",
        "df.shape"
      ],
      "execution_count": 10,
      "outputs": [
        {
          "output_type": "execute_result",
          "data": {
            "text/plain": [
              "(122, 5)"
            ]
          },
          "metadata": {
            "tags": []
          },
          "execution_count": 10
        }
      ]
    },
    {
      "cell_type": "code",
      "metadata": {
        "colab": {
          "base_uri": "https://localhost:8080/"
        },
        "id": "on5T0bRGqL0O",
        "outputId": "0ee507b3-3c6a-4719-d4c3-63a580e2021c"
      },
      "source": [
        "# print shape of concatenated dataset\n",
        "df.shape"
      ],
      "execution_count": 11,
      "outputs": [
        {
          "output_type": "execute_result",
          "data": {
            "text/plain": [
              "(122, 5)"
            ]
          },
          "metadata": {
            "tags": []
          },
          "execution_count": 11
        }
      ]
    },
    {
      "cell_type": "code",
      "metadata": {
        "id": "eojr9QyEqhTN"
      },
      "source": [
        "# Reset index for the dataset (df)\n",
        "df.reset_index(inplace=True)"
      ],
      "execution_count": 12,
      "outputs": []
    },
    {
      "cell_type": "code",
      "metadata": {
        "colab": {
          "base_uri": "https://localhost:8080/",
          "height": 195
        },
        "id": "jolr5PockF-Z",
        "outputId": "64091d90-7587-4833-bd8e-555e107347f1"
      },
      "source": [
        "# Print the dataset\n",
        "df.head()"
      ],
      "execution_count": 13,
      "outputs": [
        {
          "output_type": "execute_result",
          "data": {
            "text/html": [
              "<div>\n",
              "<style scoped>\n",
              "    .dataframe tbody tr th:only-of-type {\n",
              "        vertical-align: middle;\n",
              "    }\n",
              "\n",
              "    .dataframe tbody tr th {\n",
              "        vertical-align: top;\n",
              "    }\n",
              "\n",
              "    .dataframe thead th {\n",
              "        text-align: right;\n",
              "    }\n",
              "</style>\n",
              "<table border=\"1\" class=\"dataframe\">\n",
              "  <thead>\n",
              "    <tr style=\"text-align: right;\">\n",
              "      <th></th>\n",
              "      <th>index</th>\n",
              "      <th>book_id</th>\n",
              "      <th>name</th>\n",
              "      <th>description</th>\n",
              "      <th>genre</th>\n",
              "      <th>author</th>\n",
              "    </tr>\n",
              "  </thead>\n",
              "  <tbody>\n",
              "    <tr>\n",
              "      <th>0</th>\n",
              "      <td>0</td>\n",
              "      <td>4833</td>\n",
              "      <td>The Glass Castle</td>\n",
              "      <td>A tender, moving tale of unconditional love in...</td>\n",
              "      <td>Biographies &amp; Memoirs</td>\n",
              "      <td>Jeannette Walls</td>\n",
              "    </tr>\n",
              "    <tr>\n",
              "      <th>1</th>\n",
              "      <td>1</td>\n",
              "      <td>590</td>\n",
              "      <td>Night (The Night Trilogy, #1)</td>\n",
              "      <td>Born into a Jewish ghetto in Hungary, as a chi...</td>\n",
              "      <td>Biographies &amp; Memoirs</td>\n",
              "      <td>Elie Wiesel</td>\n",
              "    </tr>\n",
              "    <tr>\n",
              "      <th>2</th>\n",
              "      <td>2</td>\n",
              "      <td>4264</td>\n",
              "      <td>Angela's Ashes (Frank McCourt, #1)</td>\n",
              "      <td>Imbued on every page with Frank McCourt's asto...</td>\n",
              "      <td>Biographies &amp; Memoirs</td>\n",
              "      <td>Frank McCourt</td>\n",
              "    </tr>\n",
              "    <tr>\n",
              "      <th>3</th>\n",
              "      <td>3</td>\n",
              "      <td>3361</td>\n",
              "      <td>Eat, Pray, Love</td>\n",
              "      <td>A celebrated writer's irresistible, candid, an...</td>\n",
              "      <td>Biographies &amp; Memoirs</td>\n",
              "      <td>Elizabeth Gilbert</td>\n",
              "    </tr>\n",
              "    <tr>\n",
              "      <th>4</th>\n",
              "      <td>4</td>\n",
              "      <td>4535</td>\n",
              "      <td>Into Thin Air: A Personal Account of the Mount...</td>\n",
              "      <td>A bank of clouds was assembling on the not-so-...</td>\n",
              "      <td>Biographies &amp; Memoirs</td>\n",
              "      <td>Jon Krakauer</td>\n",
              "    </tr>\n",
              "  </tbody>\n",
              "</table>\n",
              "</div>"
            ],
            "text/plain": [
              "   index  book_id  ...                  genre             author\n",
              "0      0     4833  ...  Biographies & Memoirs    Jeannette Walls\n",
              "1      1      590  ...  Biographies & Memoirs        Elie Wiesel\n",
              "2      2     4264  ...  Biographies & Memoirs      Frank McCourt\n",
              "3      3     3361  ...  Biographies & Memoirs  Elizabeth Gilbert\n",
              "4      4     4535  ...  Biographies & Memoirs       Jon Krakauer\n",
              "\n",
              "[5 rows x 6 columns]"
            ]
          },
          "metadata": {
            "tags": []
          },
          "execution_count": 13
        }
      ]
    },
    {
      "cell_type": "code",
      "metadata": {
        "colab": {
          "base_uri": "https://localhost:8080/",
          "height": 212
        },
        "id": "mzkHmF3zDYs2",
        "outputId": "2b7b3c2c-7e11-4daf-8f02-d8ed290ed68a"
      },
      "source": [
        "# Read books dataset and assign it to the variable b\n",
        "b = pd.read_csv('books.csv')\n",
        "print(b.shape)\n",
        "b.head()"
      ],
      "execution_count": 14,
      "outputs": [
        {
          "output_type": "stream",
          "text": [
            "(2312, 5)\n"
          ],
          "name": "stdout"
        },
        {
          "output_type": "execute_result",
          "data": {
            "text/html": [
              "<div>\n",
              "<style scoped>\n",
              "    .dataframe tbody tr th:only-of-type {\n",
              "        vertical-align: middle;\n",
              "    }\n",
              "\n",
              "    .dataframe tbody tr th {\n",
              "        vertical-align: top;\n",
              "    }\n",
              "\n",
              "    .dataframe thead th {\n",
              "        text-align: right;\n",
              "    }\n",
              "</style>\n",
              "<table border=\"1\" class=\"dataframe\">\n",
              "  <thead>\n",
              "    <tr style=\"text-align: right;\">\n",
              "      <th></th>\n",
              "      <th>book_id</th>\n",
              "      <th>avg_rating</th>\n",
              "      <th>no_of_ratings</th>\n",
              "      <th>user_id</th>\n",
              "      <th>user_rating</th>\n",
              "    </tr>\n",
              "  </thead>\n",
              "  <tbody>\n",
              "    <tr>\n",
              "      <th>0</th>\n",
              "      <td>4833</td>\n",
              "      <td>4.25</td>\n",
              "      <td>7156.0</td>\n",
              "      <td>3466</td>\n",
              "      <td>0</td>\n",
              "    </tr>\n",
              "    <tr>\n",
              "      <th>1</th>\n",
              "      <td>590</td>\n",
              "      <td>4.31</td>\n",
              "      <td>7821.0</td>\n",
              "      <td>3466</td>\n",
              "      <td>5</td>\n",
              "    </tr>\n",
              "    <tr>\n",
              "      <th>2</th>\n",
              "      <td>4264</td>\n",
              "      <td>4.08</td>\n",
              "      <td>3836.0</td>\n",
              "      <td>3453</td>\n",
              "      <td>5</td>\n",
              "    </tr>\n",
              "    <tr>\n",
              "      <th>3</th>\n",
              "      <td>3361</td>\n",
              "      <td>3.52</td>\n",
              "      <td>1245.0</td>\n",
              "      <td>3453</td>\n",
              "      <td>4</td>\n",
              "    </tr>\n",
              "    <tr>\n",
              "      <th>4</th>\n",
              "      <td>4535</td>\n",
              "      <td>4.13</td>\n",
              "      <td>3107.0</td>\n",
              "      <td>3453</td>\n",
              "      <td>0</td>\n",
              "    </tr>\n",
              "  </tbody>\n",
              "</table>\n",
              "</div>"
            ],
            "text/plain": [
              "   book_id  avg_rating  no_of_ratings  user_id  user_rating\n",
              "0     4833        4.25         7156.0     3466            0\n",
              "1      590        4.31         7821.0     3466            5\n",
              "2     4264        4.08         3836.0     3453            5\n",
              "3     3361        3.52         1245.0     3453            4\n",
              "4     4535        4.13         3107.0     3453            0"
            ]
          },
          "metadata": {
            "tags": []
          },
          "execution_count": 14
        }
      ]
    },
    {
      "cell_type": "code",
      "metadata": {
        "colab": {
          "base_uri": "https://localhost:8080/"
        },
        "id": "CCXzzIOTD1Cz",
        "outputId": "219c0248-8439-4ab0-9ed4-7c42eaef5624"
      },
      "source": [
        "# Check if there is any Null cell in the book dataset\n",
        "b.isnull().sum()"
      ],
      "execution_count": 15,
      "outputs": [
        {
          "output_type": "execute_result",
          "data": {
            "text/plain": [
              "book_id          0\n",
              "avg_rating       2\n",
              "no_of_ratings    2\n",
              "user_id          0\n",
              "user_rating      0\n",
              "dtype: int64"
            ]
          },
          "metadata": {
            "tags": []
          },
          "execution_count": 15
        }
      ]
    },
    {
      "cell_type": "code",
      "metadata": {
        "colab": {
          "base_uri": "https://localhost:8080/"
        },
        "id": "gKpjS5UgD6ro",
        "outputId": "ae88d147-d776-4799-c714-8efde678548d"
      },
      "source": [
        "# Check if there is any Null cell in the book dataset\n",
        "b.isnull().sum()"
      ],
      "execution_count": 16,
      "outputs": [
        {
          "output_type": "execute_result",
          "data": {
            "text/plain": [
              "book_id          0\n",
              "avg_rating       2\n",
              "no_of_ratings    2\n",
              "user_id          0\n",
              "user_rating      0\n",
              "dtype: int64"
            ]
          },
          "metadata": {
            "tags": []
          },
          "execution_count": 16
        }
      ]
    },
    {
      "cell_type": "code",
      "metadata": {
        "colab": {
          "base_uri": "https://localhost:8080/"
        },
        "id": "Nwkl-P_LD98U",
        "outputId": "d51e89ef-92b9-4a63-b923-1a1d0682a070"
      },
      "source": [
        "# Print the unique number of books in the dataset book\n",
        "len(b.book_id.unique())"
      ],
      "execution_count": 17,
      "outputs": [
        {
          "output_type": "execute_result",
          "data": {
            "text/plain": [
              "710"
            ]
          },
          "metadata": {
            "tags": []
          },
          "execution_count": 17
        }
      ]
    },
    {
      "cell_type": "code",
      "metadata": {
        "id": "r4c0CdXqECUt"
      },
      "source": [
        "# Drop the colunms 'user_rating' and 'user_id'\n",
        "b.drop(['user_rating', 'user_id'], axis=1, inplace=True)"
      ],
      "execution_count": 18,
      "outputs": []
    },
    {
      "cell_type": "code",
      "metadata": {
        "colab": {
          "base_uri": "https://localhost:8080/",
          "height": 195
        },
        "id": "O-zD5-sbEGuT",
        "outputId": "ae8da655-54a1-412b-e33e-7aa1730913cc"
      },
      "source": [
        "# Drops all duplicate rows\n",
        "b.drop_duplicates(inplace = True)\n",
        "b.head()"
      ],
      "execution_count": 19,
      "outputs": [
        {
          "output_type": "execute_result",
          "data": {
            "text/html": [
              "<div>\n",
              "<style scoped>\n",
              "    .dataframe tbody tr th:only-of-type {\n",
              "        vertical-align: middle;\n",
              "    }\n",
              "\n",
              "    .dataframe tbody tr th {\n",
              "        vertical-align: top;\n",
              "    }\n",
              "\n",
              "    .dataframe thead th {\n",
              "        text-align: right;\n",
              "    }\n",
              "</style>\n",
              "<table border=\"1\" class=\"dataframe\">\n",
              "  <thead>\n",
              "    <tr style=\"text-align: right;\">\n",
              "      <th></th>\n",
              "      <th>book_id</th>\n",
              "      <th>avg_rating</th>\n",
              "      <th>no_of_ratings</th>\n",
              "    </tr>\n",
              "  </thead>\n",
              "  <tbody>\n",
              "    <tr>\n",
              "      <th>0</th>\n",
              "      <td>4833</td>\n",
              "      <td>4.25</td>\n",
              "      <td>7156.0</td>\n",
              "    </tr>\n",
              "    <tr>\n",
              "      <th>1</th>\n",
              "      <td>590</td>\n",
              "      <td>4.31</td>\n",
              "      <td>7821.0</td>\n",
              "    </tr>\n",
              "    <tr>\n",
              "      <th>2</th>\n",
              "      <td>4264</td>\n",
              "      <td>4.08</td>\n",
              "      <td>3836.0</td>\n",
              "    </tr>\n",
              "    <tr>\n",
              "      <th>3</th>\n",
              "      <td>3361</td>\n",
              "      <td>3.52</td>\n",
              "      <td>1245.0</td>\n",
              "    </tr>\n",
              "    <tr>\n",
              "      <th>4</th>\n",
              "      <td>4535</td>\n",
              "      <td>4.13</td>\n",
              "      <td>3107.0</td>\n",
              "    </tr>\n",
              "  </tbody>\n",
              "</table>\n",
              "</div>"
            ],
            "text/plain": [
              "   book_id  avg_rating  no_of_ratings\n",
              "0     4833        4.25         7156.0\n",
              "1      590        4.31         7821.0\n",
              "2     4264        4.08         3836.0\n",
              "3     3361        3.52         1245.0\n",
              "4     4535        4.13         3107.0"
            ]
          },
          "metadata": {
            "tags": []
          },
          "execution_count": 19
        }
      ]
    },
    {
      "cell_type": "code",
      "metadata": {
        "id": "iqJRTantEMey"
      },
      "source": [
        "# Reset index for the book dataset (b)\n",
        "b.reset_index(drop=True, inplace=True)"
      ],
      "execution_count": 20,
      "outputs": []
    },
    {
      "cell_type": "code",
      "metadata": {
        "colab": {
          "base_uri": "https://localhost:8080/"
        },
        "id": "bg80mrvmEQfC",
        "outputId": "27096071-49b2-4f01-baf5-a2fa9518e8ec"
      },
      "source": [
        "# Print the unique number of books in the dataset book\n",
        "len(b.book_id.unique())"
      ],
      "execution_count": 21,
      "outputs": [
        {
          "output_type": "execute_result",
          "data": {
            "text/plain": [
              "710"
            ]
          },
          "metadata": {
            "tags": []
          },
          "execution_count": 21
        }
      ]
    },
    {
      "cell_type": "code",
      "metadata": {
        "colab": {
          "base_uri": "https://localhost:8080/",
          "height": 195
        },
        "id": "2kOBeSVqERqf",
        "outputId": "d537971b-f4fb-45eb-b7b2-c8d5c776494f"
      },
      "source": [
        "# Print concatenated dataset\n",
        "df.head()"
      ],
      "execution_count": 22,
      "outputs": [
        {
          "output_type": "execute_result",
          "data": {
            "text/html": [
              "<div>\n",
              "<style scoped>\n",
              "    .dataframe tbody tr th:only-of-type {\n",
              "        vertical-align: middle;\n",
              "    }\n",
              "\n",
              "    .dataframe tbody tr th {\n",
              "        vertical-align: top;\n",
              "    }\n",
              "\n",
              "    .dataframe thead th {\n",
              "        text-align: right;\n",
              "    }\n",
              "</style>\n",
              "<table border=\"1\" class=\"dataframe\">\n",
              "  <thead>\n",
              "    <tr style=\"text-align: right;\">\n",
              "      <th></th>\n",
              "      <th>index</th>\n",
              "      <th>book_id</th>\n",
              "      <th>name</th>\n",
              "      <th>description</th>\n",
              "      <th>genre</th>\n",
              "      <th>author</th>\n",
              "    </tr>\n",
              "  </thead>\n",
              "  <tbody>\n",
              "    <tr>\n",
              "      <th>0</th>\n",
              "      <td>0</td>\n",
              "      <td>4833</td>\n",
              "      <td>The Glass Castle</td>\n",
              "      <td>A tender, moving tale of unconditional love in...</td>\n",
              "      <td>Biographies &amp; Memoirs</td>\n",
              "      <td>Jeannette Walls</td>\n",
              "    </tr>\n",
              "    <tr>\n",
              "      <th>1</th>\n",
              "      <td>1</td>\n",
              "      <td>590</td>\n",
              "      <td>Night (The Night Trilogy, #1)</td>\n",
              "      <td>Born into a Jewish ghetto in Hungary, as a chi...</td>\n",
              "      <td>Biographies &amp; Memoirs</td>\n",
              "      <td>Elie Wiesel</td>\n",
              "    </tr>\n",
              "    <tr>\n",
              "      <th>2</th>\n",
              "      <td>2</td>\n",
              "      <td>4264</td>\n",
              "      <td>Angela's Ashes (Frank McCourt, #1)</td>\n",
              "      <td>Imbued on every page with Frank McCourt's asto...</td>\n",
              "      <td>Biographies &amp; Memoirs</td>\n",
              "      <td>Frank McCourt</td>\n",
              "    </tr>\n",
              "    <tr>\n",
              "      <th>3</th>\n",
              "      <td>3</td>\n",
              "      <td>3361</td>\n",
              "      <td>Eat, Pray, Love</td>\n",
              "      <td>A celebrated writer's irresistible, candid, an...</td>\n",
              "      <td>Biographies &amp; Memoirs</td>\n",
              "      <td>Elizabeth Gilbert</td>\n",
              "    </tr>\n",
              "    <tr>\n",
              "      <th>4</th>\n",
              "      <td>4</td>\n",
              "      <td>4535</td>\n",
              "      <td>Into Thin Air: A Personal Account of the Mount...</td>\n",
              "      <td>A bank of clouds was assembling on the not-so-...</td>\n",
              "      <td>Biographies &amp; Memoirs</td>\n",
              "      <td>Jon Krakauer</td>\n",
              "    </tr>\n",
              "  </tbody>\n",
              "</table>\n",
              "</div>"
            ],
            "text/plain": [
              "   index  book_id  ...                  genre             author\n",
              "0      0     4833  ...  Biographies & Memoirs    Jeannette Walls\n",
              "1      1      590  ...  Biographies & Memoirs        Elie Wiesel\n",
              "2      2     4264  ...  Biographies & Memoirs      Frank McCourt\n",
              "3      3     3361  ...  Biographies & Memoirs  Elizabeth Gilbert\n",
              "4      4     4535  ...  Biographies & Memoirs       Jon Krakauer\n",
              "\n",
              "[5 rows x 6 columns]"
            ]
          },
          "metadata": {
            "tags": []
          },
          "execution_count": 22
        }
      ]
    },
    {
      "cell_type": "code",
      "metadata": {
        "colab": {
          "base_uri": "https://localhost:8080/",
          "height": 195
        },
        "id": "kpk1fGAWEUz_",
        "outputId": "425ee94a-9645-4ee3-f06c-a07dfe912248"
      },
      "source": [
        "# Print book dataset\n",
        "b.head()"
      ],
      "execution_count": 23,
      "outputs": [
        {
          "output_type": "execute_result",
          "data": {
            "text/html": [
              "<div>\n",
              "<style scoped>\n",
              "    .dataframe tbody tr th:only-of-type {\n",
              "        vertical-align: middle;\n",
              "    }\n",
              "\n",
              "    .dataframe tbody tr th {\n",
              "        vertical-align: top;\n",
              "    }\n",
              "\n",
              "    .dataframe thead th {\n",
              "        text-align: right;\n",
              "    }\n",
              "</style>\n",
              "<table border=\"1\" class=\"dataframe\">\n",
              "  <thead>\n",
              "    <tr style=\"text-align: right;\">\n",
              "      <th></th>\n",
              "      <th>book_id</th>\n",
              "      <th>avg_rating</th>\n",
              "      <th>no_of_ratings</th>\n",
              "    </tr>\n",
              "  </thead>\n",
              "  <tbody>\n",
              "    <tr>\n",
              "      <th>0</th>\n",
              "      <td>4833</td>\n",
              "      <td>4.25</td>\n",
              "      <td>7156.0</td>\n",
              "    </tr>\n",
              "    <tr>\n",
              "      <th>1</th>\n",
              "      <td>590</td>\n",
              "      <td>4.31</td>\n",
              "      <td>7821.0</td>\n",
              "    </tr>\n",
              "    <tr>\n",
              "      <th>2</th>\n",
              "      <td>4264</td>\n",
              "      <td>4.08</td>\n",
              "      <td>3836.0</td>\n",
              "    </tr>\n",
              "    <tr>\n",
              "      <th>3</th>\n",
              "      <td>3361</td>\n",
              "      <td>3.52</td>\n",
              "      <td>1245.0</td>\n",
              "    </tr>\n",
              "    <tr>\n",
              "      <th>4</th>\n",
              "      <td>4535</td>\n",
              "      <td>4.13</td>\n",
              "      <td>3107.0</td>\n",
              "    </tr>\n",
              "  </tbody>\n",
              "</table>\n",
              "</div>"
            ],
            "text/plain": [
              "   book_id  avg_rating  no_of_ratings\n",
              "0     4833        4.25         7156.0\n",
              "1      590        4.31         7821.0\n",
              "2     4264        4.08         3836.0\n",
              "3     3361        3.52         1245.0\n",
              "4     4535        4.13         3107.0"
            ]
          },
          "metadata": {
            "tags": []
          },
          "execution_count": 23
        }
      ]
    },
    {
      "cell_type": "code",
      "metadata": {
        "colab": {
          "base_uri": "https://localhost:8080/"
        },
        "id": "MGBz-M1ZEgP9",
        "outputId": "d4a8dc87-1da7-4041-b3b2-81abfe95b3ac"
      },
      "source": [
        "# Print shape of concatenated dataset\n",
        "df.shape"
      ],
      "execution_count": 24,
      "outputs": [
        {
          "output_type": "execute_result",
          "data": {
            "text/plain": [
              "(122, 6)"
            ]
          },
          "metadata": {
            "tags": []
          },
          "execution_count": 24
        }
      ]
    },
    {
      "cell_type": "code",
      "metadata": {
        "colab": {
          "base_uri": "https://localhost:8080/"
        },
        "id": "PZhM6XIVEa0Z",
        "outputId": "b41f9eba-d69b-43e8-9d5c-1c73e5f3e4a0"
      },
      "source": [
        "# Merge previous concatenated dataset (description and listing) with book dataset\n",
        "df = pd.merge(df,\n",
        "                 b[['book_id', 'avg_rating', 'no_of_ratings']],\n",
        "                 on='book_id', \n",
        "                 how='left')\n",
        "df.shape"
      ],
      "execution_count": 25,
      "outputs": [
        {
          "output_type": "execute_result",
          "data": {
            "text/plain": [
              "(122, 8)"
            ]
          },
          "metadata": {
            "tags": []
          },
          "execution_count": 25
        }
      ]
    },
    {
      "cell_type": "code",
      "metadata": {
        "colab": {
          "base_uri": "https://localhost:8080/"
        },
        "id": "xuGIaG7z2or_",
        "outputId": "7d65dcf4-e617-4062-fec1-0a63be1a8ed1"
      },
      "source": [
        "df.isnull().sum()"
      ],
      "execution_count": 26,
      "outputs": [
        {
          "output_type": "execute_result",
          "data": {
            "text/plain": [
              "index             0\n",
              "book_id           0\n",
              "name              0\n",
              "description       0\n",
              "genre             0\n",
              "author            7\n",
              "avg_rating       20\n",
              "no_of_ratings    20\n",
              "dtype: int64"
            ]
          },
          "metadata": {
            "tags": []
          },
          "execution_count": 26
        }
      ]
    },
    {
      "cell_type": "code",
      "metadata": {
        "colab": {
          "base_uri": "https://localhost:8080/",
          "height": 279
        },
        "id": "I_GWvQOJEy9q",
        "outputId": "3daf0873-3541-470f-f4bf-9892d11bc02e"
      },
      "source": [
        "df.head()"
      ],
      "execution_count": 27,
      "outputs": [
        {
          "output_type": "execute_result",
          "data": {
            "text/html": [
              "<div>\n",
              "<style scoped>\n",
              "    .dataframe tbody tr th:only-of-type {\n",
              "        vertical-align: middle;\n",
              "    }\n",
              "\n",
              "    .dataframe tbody tr th {\n",
              "        vertical-align: top;\n",
              "    }\n",
              "\n",
              "    .dataframe thead th {\n",
              "        text-align: right;\n",
              "    }\n",
              "</style>\n",
              "<table border=\"1\" class=\"dataframe\">\n",
              "  <thead>\n",
              "    <tr style=\"text-align: right;\">\n",
              "      <th></th>\n",
              "      <th>index</th>\n",
              "      <th>book_id</th>\n",
              "      <th>name</th>\n",
              "      <th>description</th>\n",
              "      <th>genre</th>\n",
              "      <th>author</th>\n",
              "      <th>avg_rating</th>\n",
              "      <th>no_of_ratings</th>\n",
              "    </tr>\n",
              "  </thead>\n",
              "  <tbody>\n",
              "    <tr>\n",
              "      <th>0</th>\n",
              "      <td>0</td>\n",
              "      <td>4833</td>\n",
              "      <td>The Glass Castle</td>\n",
              "      <td>A tender, moving tale of unconditional love in...</td>\n",
              "      <td>Biographies &amp; Memoirs</td>\n",
              "      <td>Jeannette Walls</td>\n",
              "      <td>4.25</td>\n",
              "      <td>7156.0</td>\n",
              "    </tr>\n",
              "    <tr>\n",
              "      <th>1</th>\n",
              "      <td>1</td>\n",
              "      <td>590</td>\n",
              "      <td>Night (The Night Trilogy, #1)</td>\n",
              "      <td>Born into a Jewish ghetto in Hungary, as a chi...</td>\n",
              "      <td>Biographies &amp; Memoirs</td>\n",
              "      <td>Elie Wiesel</td>\n",
              "      <td>4.31</td>\n",
              "      <td>7821.0</td>\n",
              "    </tr>\n",
              "    <tr>\n",
              "      <th>2</th>\n",
              "      <td>2</td>\n",
              "      <td>4264</td>\n",
              "      <td>Angela's Ashes (Frank McCourt, #1)</td>\n",
              "      <td>Imbued on every page with Frank McCourt's asto...</td>\n",
              "      <td>Biographies &amp; Memoirs</td>\n",
              "      <td>Frank McCourt</td>\n",
              "      <td>4.08</td>\n",
              "      <td>3836.0</td>\n",
              "    </tr>\n",
              "    <tr>\n",
              "      <th>3</th>\n",
              "      <td>3</td>\n",
              "      <td>3361</td>\n",
              "      <td>Eat, Pray, Love</td>\n",
              "      <td>A celebrated writer's irresistible, candid, an...</td>\n",
              "      <td>Biographies &amp; Memoirs</td>\n",
              "      <td>Elizabeth Gilbert</td>\n",
              "      <td>3.52</td>\n",
              "      <td>1245.0</td>\n",
              "    </tr>\n",
              "    <tr>\n",
              "      <th>4</th>\n",
              "      <td>4</td>\n",
              "      <td>4535</td>\n",
              "      <td>Into Thin Air: A Personal Account of the Mount...</td>\n",
              "      <td>A bank of clouds was assembling on the not-so-...</td>\n",
              "      <td>Biographies &amp; Memoirs</td>\n",
              "      <td>Jon Krakauer</td>\n",
              "      <td>4.13</td>\n",
              "      <td>3107.0</td>\n",
              "    </tr>\n",
              "  </tbody>\n",
              "</table>\n",
              "</div>"
            ],
            "text/plain": [
              "   index  book_id  ... avg_rating no_of_ratings\n",
              "0      0     4833  ...       4.25        7156.0\n",
              "1      1      590  ...       4.31        7821.0\n",
              "2      2     4264  ...       4.08        3836.0\n",
              "3      3     3361  ...       3.52        1245.0\n",
              "4      4     4535  ...       4.13        3107.0\n",
              "\n",
              "[5 rows x 8 columns]"
            ]
          },
          "metadata": {
            "tags": []
          },
          "execution_count": 27
        }
      ]
    },
    {
      "cell_type": "markdown",
      "metadata": {
        "id": "z6pyg4HiY1Uc"
      },
      "source": [
        "# Text Preprocessing"
      ]
    },
    {
      "cell_type": "code",
      "metadata": {
        "id": "mBcUDf1YYgRN"
      },
      "source": [
        "#Utitlity functions for removing ASCII characters, converting lower case, removing stop words, html and punctuation from description\n",
        "\n",
        "def _removeNonAscii(s):\n",
        "    return \"\".join(i for i in s if  ord(i)<128)\n",
        "\n",
        "def make_lower_case(text):\n",
        "    return text.lower()\n",
        "\n",
        "def remove_stop_words(text):\n",
        "    text = text.split()\n",
        "    stops = set(stopwords.words(\"english\"))\n",
        "    text = [w for w in text if not w in stops]\n",
        "    text = \" \".join(text)\n",
        "    return text\n",
        "\n",
        "def remove_html(text):\n",
        "    html_pattern = re.compile('<.*?>')\n",
        "    return html_pattern.sub(r'', text)\n",
        "\n",
        "def remove_punctuation(text):\n",
        "    tokenizer = RegexpTokenizer(r'\\w+')\n",
        "    text = tokenizer.tokenize(text)\n",
        "    text = \" \".join(text)\n",
        "    return text"
      ],
      "execution_count": 28,
      "outputs": []
    },
    {
      "cell_type": "code",
      "metadata": {
        "id": "5BzuTSylY5dJ"
      },
      "source": [
        "df['description'] = df['description'].astype(str)"
      ],
      "execution_count": null,
      "outputs": []
    },
    {
      "cell_type": "code",
      "metadata": {
        "id": "3ee5KBESY8OB"
      },
      "source": [
        "df['cleaned'] = df['description'].apply(_removeNonAscii)\n",
        "\n",
        "df['cleaned'] = df.cleaned.apply(func = make_lower_case)\n",
        "df['cleaned'] = df.cleaned.apply(func = remove_stop_words)\n",
        "df['cleaned'] = df.cleaned.apply(func=remove_punctuation)\n",
        "df['cleaned'] = df.cleaned.apply(func=remove_html)"
      ],
      "execution_count": null,
      "outputs": []
    },
    {
      "cell_type": "code",
      "metadata": {
        "colab": {
          "base_uri": "https://localhost:8080/",
          "height": 293
        },
        "id": "9KtGjmz2Y-EX",
        "outputId": "d836466f-4ab0-486a-ec35-930895f494c4"
      },
      "source": [
        "df.head()"
      ],
      "execution_count": null,
      "outputs": [
        {
          "output_type": "execute_result",
          "data": {
            "text/html": [
              "<div>\n",
              "<style scoped>\n",
              "    .dataframe tbody tr th:only-of-type {\n",
              "        vertical-align: middle;\n",
              "    }\n",
              "\n",
              "    .dataframe tbody tr th {\n",
              "        vertical-align: top;\n",
              "    }\n",
              "\n",
              "    .dataframe thead th {\n",
              "        text-align: right;\n",
              "    }\n",
              "</style>\n",
              "<table border=\"1\" class=\"dataframe\">\n",
              "  <thead>\n",
              "    <tr style=\"text-align: right;\">\n",
              "      <th></th>\n",
              "      <th>index</th>\n",
              "      <th>book_id</th>\n",
              "      <th>name</th>\n",
              "      <th>description</th>\n",
              "      <th>genre</th>\n",
              "      <th>author</th>\n",
              "      <th>avg_rating</th>\n",
              "      <th>no_of_ratings</th>\n",
              "      <th>cleaned</th>\n",
              "    </tr>\n",
              "  </thead>\n",
              "  <tbody>\n",
              "    <tr>\n",
              "      <th>0</th>\n",
              "      <td>0</td>\n",
              "      <td>4833.0</td>\n",
              "      <td>The Glass Castle</td>\n",
              "      <td>A tender, moving tale of unconditional love in...</td>\n",
              "      <td>Biographies &amp; Memoirs</td>\n",
              "      <td>Jeannette Walls</td>\n",
              "      <td>4.25</td>\n",
              "      <td>7156.0</td>\n",
              "      <td>tender moving tale unconditional love family t...</td>\n",
              "    </tr>\n",
              "    <tr>\n",
              "      <th>1</th>\n",
              "      <td>1</td>\n",
              "      <td>590.0</td>\n",
              "      <td>Night (The Night Trilogy, #1)</td>\n",
              "      <td>Born into a Jewish ghetto in Hungary, as a chi...</td>\n",
              "      <td>Biographies &amp; Memoirs</td>\n",
              "      <td>Elie Wiesel</td>\n",
              "      <td>4.31</td>\n",
              "      <td>7821.0</td>\n",
              "      <td>born jewish ghetto hungary child elie wiesel s...</td>\n",
              "    </tr>\n",
              "    <tr>\n",
              "      <th>2</th>\n",
              "      <td>2</td>\n",
              "      <td>4264.0</td>\n",
              "      <td>Angela's Ashes (Frank McCourt, #1)</td>\n",
              "      <td>Imbued on every page with Frank McCourt's asto...</td>\n",
              "      <td>Biographies &amp; Memoirs</td>\n",
              "      <td>Frank McCourt</td>\n",
              "      <td>4.08</td>\n",
              "      <td>3836.0</td>\n",
              "      <td>imbued every page frank mccourt s astounding h...</td>\n",
              "    </tr>\n",
              "    <tr>\n",
              "      <th>3</th>\n",
              "      <td>3</td>\n",
              "      <td>3361.0</td>\n",
              "      <td>Eat, Pray, Love</td>\n",
              "      <td>A celebrated writer's irresistible, candid, an...</td>\n",
              "      <td>Biographies &amp; Memoirs</td>\n",
              "      <td>Elizabeth Gilbert</td>\n",
              "      <td>3.52</td>\n",
              "      <td>1245.0</td>\n",
              "      <td>celebrated writer s irresistible candid eloque...</td>\n",
              "    </tr>\n",
              "    <tr>\n",
              "      <th>4</th>\n",
              "      <td>4</td>\n",
              "      <td>4535.0</td>\n",
              "      <td>Into Thin Air: A Personal Account of the Mount...</td>\n",
              "      <td>A bank of clouds was assembling on the not-so-...</td>\n",
              "      <td>Biographies &amp; Memoirs</td>\n",
              "      <td>Jon Krakauer</td>\n",
              "      <td>4.13</td>\n",
              "      <td>3107.0</td>\n",
              "      <td>bank clouds assembling not so distant horizon ...</td>\n",
              "    </tr>\n",
              "  </tbody>\n",
              "</table>\n",
              "</div>"
            ],
            "text/plain": [
              "   index  ...                                            cleaned\n",
              "0      0  ...  tender moving tale unconditional love family t...\n",
              "1      1  ...  born jewish ghetto hungary child elie wiesel s...\n",
              "2      2  ...  imbued every page frank mccourt s astounding h...\n",
              "3      3  ...  celebrated writer s irresistible candid eloque...\n",
              "4      4  ...  bank clouds assembling not so distant horizon ...\n",
              "\n",
              "[5 rows x 9 columns]"
            ]
          },
          "metadata": {
            "tags": []
          },
          "execution_count": 462
        }
      ]
    },
    {
      "cell_type": "markdown",
      "metadata": {
        "id": "3bGsymtmZFLc"
      },
      "source": [
        "# Training our corpus with Google pre-trained Word2Vec model:\n"
      ]
    },
    {
      "cell_type": "code",
      "metadata": {
        "colab": {
          "base_uri": "https://localhost:8080/"
        },
        "id": "Ozrg8znWZAku",
        "outputId": "bcf13da2-dc10-40dd-e8f1-07b9718ced2e"
      },
      "source": [
        "# Downloading the Google pretrained Word2Vec Model\n",
        "!wget -P /root/input/ -c \"https://s3.amazonaws.com/dl4j-distribution/GoogleNews-vectors-negative300.bin.gz\""
      ],
      "execution_count": null,
      "outputs": [
        {
          "output_type": "stream",
          "text": [
            "--2021-05-20 17:43:25--  https://s3.amazonaws.com/dl4j-distribution/GoogleNews-vectors-negative300.bin.gz\n",
            "Resolving s3.amazonaws.com (s3.amazonaws.com)... 52.216.107.142\n",
            "Connecting to s3.amazonaws.com (s3.amazonaws.com)|52.216.107.142|:443... connected.\n",
            "HTTP request sent, awaiting response... 416 Requested Range Not Satisfiable\n",
            "\n",
            "    The file is already fully retrieved; nothing to do.\n",
            "\n"
          ],
          "name": "stdout"
        }
      ]
    },
    {
      "cell_type": "code",
      "metadata": {
        "id": "dx6-5X0yZHlO"
      },
      "source": [
        "EMBEDDING_FILE = '/root/input/GoogleNews-vectors-negative300.bin.gz'\n",
        "google_word2vec = KeyedVectors.load_word2vec_format(EMBEDDING_FILE, binary=True)"
      ],
      "execution_count": null,
      "outputs": []
    },
    {
      "cell_type": "code",
      "metadata": {
        "id": "XC62zgR2ZLe_"
      },
      "source": [
        "#splitting the description into words\n",
        "i = 0\n",
        "corpus = []\n",
        "for words in df['cleaned']:\n",
        "    corpus.append(words.split())"
      ],
      "execution_count": null,
      "outputs": []
    },
    {
      "cell_type": "code",
      "metadata": {
        "colab": {
          "base_uri": "https://localhost:8080/"
        },
        "id": "MR7sQAupZOY3",
        "outputId": "25cb7088-b23e-462c-c327-1870181b4877"
      },
      "source": [
        "# Training our corpus with Google Pretrained Model\n",
        "%%time\n",
        "google_model = Word2Vec(size = 300, window=5, min_count = 2, workers = -1)\n",
        "google_model.build_vocab(corpus)\n",
        "\n",
        "#model.intersect_word2vec_format('./word2vec/GoogleNews-vectors-negative300.bin', lockf=1.0, binary=True)\n",
        "google_model.intersect_word2vec_format(EMBEDDING_FILE, lockf=1.0, binary=True)\n",
        "google_model.train(corpus, total_examples=google_model.corpus_count, epochs = 5)"
      ],
      "execution_count": null,
      "outputs": [
        {
          "output_type": "stream",
          "text": [
            "CPU times: user 1min 45s, sys: 1.18 s, total: 1min 46s\n",
            "Wall time: 1min 46s\n"
          ],
          "name": "stdout"
        }
      ]
    },
    {
      "cell_type": "code",
      "metadata": {
        "colab": {
          "base_uri": "https://localhost:8080/"
        },
        "id": "bG-L_4dlZjGM",
        "outputId": "7b560dc2-1d10-4dbb-fa6c-1d406a3dbb8a"
      },
      "source": [
        "google_model.wv.most_similar(positive=[\"steve\"])"
      ],
      "execution_count": null,
      "outputs": [
        {
          "output_type": "execute_result",
          "data": {
            "text/plain": [
              "[('dave', 0.7480320334434509),\n",
              " ('george', 0.6792417764663696),\n",
              " ('david', 0.6621124744415283),\n",
              " ('adams', 0.654116153717041),\n",
              " ('william', 0.6443428993225098),\n",
              " ('richard', 0.6435429453849792),\n",
              " ('patrick', 0.6375426054000854),\n",
              " ('charlie', 0.6294074058532715),\n",
              " ('thomas', 0.6281079649925232),\n",
              " ('mitch', 0.6272160410881042)]"
            ]
          },
          "metadata": {
            "tags": []
          },
          "execution_count": 255
        }
      ]
    },
    {
      "cell_type": "code",
      "metadata": {
        "colab": {
          "base_uri": "https://localhost:8080/"
        },
        "id": "CH2xWBlfZlah",
        "outputId": "82658d8f-7321-4bf8-d70d-4a37cba65e14"
      },
      "source": [
        "google_model.wv.most_similar(positive=[\"love\"])"
      ],
      "execution_count": null,
      "outputs": [
        {
          "output_type": "execute_result",
          "data": {
            "text/plain": [
              "[('loved', 0.6907792091369629),\n",
              " ('passion', 0.6100709438323975),\n",
              " ('loving', 0.5886635780334473),\n",
              " ('affection', 0.5664337873458862),\n",
              " ('wonderful', 0.5256202816963196),\n",
              " ('romance', 0.5208202004432678),\n",
              " ('joy', 0.5145766735076904),\n",
              " ('friendship', 0.5103018283843994),\n",
              " ('devotion', 0.507432758808136),\n",
              " ('beautiful', 0.5021157264709473)]"
            ]
          },
          "metadata": {
            "tags": []
          },
          "execution_count": 256
        }
      ]
    },
    {
      "cell_type": "markdown",
      "metadata": {
        "id": "q6fLd6CyZp85"
      },
      "source": [
        "#Building Average Word2Vec Model"
      ]
    },
    {
      "cell_type": "code",
      "metadata": {
        "id": "X7f77UwMaK1N"
      },
      "source": [
        "# Generate the average word2vec for the each book description\n",
        "\n",
        "def vectors(x):\n",
        "    \n",
        "    # Creating a list for storing the vectors (description into vectors)\n",
        "    global word_embeddings\n",
        "    word_embeddings = []\n",
        "\n",
        "    # Reading the each book description \n",
        "    for line in df['cleaned']:\n",
        "        avgword2vec = None\n",
        "        count = 0\n",
        "        for word in line.split():\n",
        "            if word in google_model.wv.vocab:\n",
        "                count += 1\n",
        "                if avgword2vec is None:\n",
        "                    avgword2vec = google_model[word]\n",
        "                else:\n",
        "                    avgword2vec = avgword2vec + google_model[word]\n",
        "                \n",
        "        if avgword2vec is not None:\n",
        "            avgword2vec = avgword2vec / count\n",
        "        \n",
        "            word_embeddings.append(avgword2vec)\n",
        "    \n",
        "    return word_embeddings"
      ],
      "execution_count": null,
      "outputs": []
    },
    {
      "cell_type": "code",
      "metadata": {
        "id": "KtoayKGYaNHE"
      },
      "source": [
        "# Recommending the Top 5 similar books\n",
        "\n",
        "def recommendations_avg(title):\n",
        "    \n",
        "    # Calling the function vectors\n",
        "    array_embeddings =vectors(df)\n",
        "    \n",
        "    # finding cosine similarity for the vectors\n",
        "    cosine_similarities = cosine_similarity(array_embeddings, array_embeddings)\n",
        "\n",
        "    # taking the title and book image link and store in new data frame called books\n",
        "    books = df['name']\n",
        "    #Reverse mapping of the index\n",
        "    indices = pd.Series(df.index, index = df['name']).drop_duplicates()\n",
        "         \n",
        "    idx = indices[title]\n",
        "    sim_scores = list(enumerate(cosine_similarities[idx]))\n",
        "    sim_scores = sorted(sim_scores, key = lambda x: x[1], reverse = True)\n",
        "    sim_scores = sim_scores[1:6]\n",
        "    book_indices = [i[0] for i in sim_scores]\n",
        "    recommend = books.iloc[book_indices]\n",
        "    return recommend"
      ],
      "execution_count": null,
      "outputs": []
    },
    {
      "cell_type": "code",
      "metadata": {
        "id": "62t2XWeqaO_Y"
      },
      "source": [
        "rec = recommendations_avg(\"Fantasy League\")"
      ],
      "execution_count": null,
      "outputs": []
    },
    {
      "cell_type": "code",
      "metadata": {
        "colab": {
          "base_uri": "https://localhost:8080/",
          "height": 81
        },
        "id": "xvqOv1CXmmGO",
        "outputId": "eedfdc4b-c0db-4318-b5ae-b0c80c12cf85"
      },
      "source": [
        "df[df['name'] == 'Fantasy League']"
      ],
      "execution_count": null,
      "outputs": [
        {
          "output_type": "execute_result",
          "data": {
            "text/html": [
              "<div>\n",
              "<style scoped>\n",
              "    .dataframe tbody tr th:only-of-type {\n",
              "        vertical-align: middle;\n",
              "    }\n",
              "\n",
              "    .dataframe tbody tr th {\n",
              "        vertical-align: top;\n",
              "    }\n",
              "\n",
              "    .dataframe thead th {\n",
              "        text-align: right;\n",
              "    }\n",
              "</style>\n",
              "<table border=\"1\" class=\"dataframe\">\n",
              "  <thead>\n",
              "    <tr style=\"text-align: right;\">\n",
              "      <th></th>\n",
              "      <th>index</th>\n",
              "      <th>book_id</th>\n",
              "      <th>name</th>\n",
              "      <th>description</th>\n",
              "      <th>genre</th>\n",
              "      <th>author</th>\n",
              "      <th>avg_rating</th>\n",
              "      <th>no_of_ratings</th>\n",
              "      <th>cleaned</th>\n",
              "    </tr>\n",
              "  </thead>\n",
              "  <tbody>\n",
              "    <tr>\n",
              "      <th>56</th>\n",
              "      <td>56</td>\n",
              "      <td>3828.0</td>\n",
              "      <td>Fantasy League</td>\n",
              "      <td>12-year-old Charlie is a fantasy football guru...</td>\n",
              "      <td>Children's Books</td>\n",
              "      <td>Mike Lupica</td>\n",
              "      <td>4.2</td>\n",
              "      <td>897.0</td>\n",
              "      <td>12 year old charlie fantasy football guru may ...</td>\n",
              "    </tr>\n",
              "  </tbody>\n",
              "</table>\n",
              "</div>"
            ],
            "text/plain": [
              "    index  ...                                            cleaned\n",
              "56     56  ...  12 year old charlie fantasy football guru may ...\n",
              "\n",
              "[1 rows x 9 columns]"
            ]
          },
          "metadata": {
            "tags": []
          },
          "execution_count": 467
        }
      ]
    },
    {
      "cell_type": "code",
      "metadata": {
        "colab": {
          "base_uri": "https://localhost:8080/",
          "height": 293
        },
        "id": "1mBIS0Yblh3W",
        "outputId": "22a9fe75-cabd-4f26-9100-7a0fa3d63ff6"
      },
      "source": [
        "list_of_indexes = rec.index.to_list()\n",
        "out = test = df.iloc[list_of_indexes]\n",
        "out"
      ],
      "execution_count": null,
      "outputs": [
        {
          "output_type": "execute_result",
          "data": {
            "text/html": [
              "<div>\n",
              "<style scoped>\n",
              "    .dataframe tbody tr th:only-of-type {\n",
              "        vertical-align: middle;\n",
              "    }\n",
              "\n",
              "    .dataframe tbody tr th {\n",
              "        vertical-align: top;\n",
              "    }\n",
              "\n",
              "    .dataframe thead th {\n",
              "        text-align: right;\n",
              "    }\n",
              "</style>\n",
              "<table border=\"1\" class=\"dataframe\">\n",
              "  <thead>\n",
              "    <tr style=\"text-align: right;\">\n",
              "      <th></th>\n",
              "      <th>index</th>\n",
              "      <th>book_id</th>\n",
              "      <th>name</th>\n",
              "      <th>description</th>\n",
              "      <th>genre</th>\n",
              "      <th>author</th>\n",
              "      <th>avg_rating</th>\n",
              "      <th>no_of_ratings</th>\n",
              "      <th>cleaned</th>\n",
              "    </tr>\n",
              "  </thead>\n",
              "  <tbody>\n",
              "    <tr>\n",
              "      <th>10</th>\n",
              "      <td>10</td>\n",
              "      <td>3035.0</td>\n",
              "      <td>Chickens, Mules and Two Old Fools: Tuck into a...</td>\n",
              "      <td>Perhaps if Joe and Vicky had known what reloca...</td>\n",
              "      <td>Biographies &amp; Memoirs</td>\n",
              "      <td>Victoria Twead</td>\n",
              "      <td>4.00</td>\n",
              "      <td>1966.0</td>\n",
              "      <td>perhaps joe vicky known relocating tiny villag...</td>\n",
              "    </tr>\n",
              "    <tr>\n",
              "      <th>93</th>\n",
              "      <td>93</td>\n",
              "      <td>3574.0</td>\n",
              "      <td>If You're Lucky</td>\n",
              "      <td>When seventeen-year-old Georgia�s brother drow...</td>\n",
              "      <td>Teen &amp; Young Adult</td>\n",
              "      <td>Yvonne Prinz</td>\n",
              "      <td>3.49</td>\n",
              "      <td>455.0</td>\n",
              "      <td>seventeen year old georgias brother drowns sur...</td>\n",
              "    </tr>\n",
              "    <tr>\n",
              "      <th>17</th>\n",
              "      <td>17</td>\n",
              "      <td>3269.0</td>\n",
              "      <td>Marley and Me: Life and Love With the World's ...</td>\n",
              "      <td>John and Jenny were just beginning their life ...</td>\n",
              "      <td>Biographies &amp; Memoirs</td>\n",
              "      <td>John Grogan</td>\n",
              "      <td>4.12</td>\n",
              "      <td>4607.0</td>\n",
              "      <td>john jenny beginning life together young love ...</td>\n",
              "    </tr>\n",
              "    <tr>\n",
              "      <th>9</th>\n",
              "      <td>9</td>\n",
              "      <td>225.0</td>\n",
              "      <td>A Child Called \"It\" (Dave Pelzer, #1)</td>\n",
              "      <td>This book chronicles the unforgettable account...</td>\n",
              "      <td>Biographies &amp; Memoirs</td>\n",
              "      <td>Dave Pelzer</td>\n",
              "      <td>4.09</td>\n",
              "      <td>3957.0</td>\n",
              "      <td>book chronicles unforgettable account one seve...</td>\n",
              "    </tr>\n",
              "    <tr>\n",
              "      <th>5</th>\n",
              "      <td>5</td>\n",
              "      <td>518.0</td>\n",
              "      <td>Tuesdays with Morrie</td>\n",
              "      <td>Maybe it was a grandparent, or a teacher or a ...</td>\n",
              "      <td>Biographies &amp; Memoirs</td>\n",
              "      <td>Mitch Albom</td>\n",
              "      <td>4.08</td>\n",
              "      <td>6250.0</td>\n",
              "      <td>maybe grandparent teacher colleague someone ol...</td>\n",
              "    </tr>\n",
              "  </tbody>\n",
              "</table>\n",
              "</div>"
            ],
            "text/plain": [
              "    index  ...                                            cleaned\n",
              "10     10  ...  perhaps joe vicky known relocating tiny villag...\n",
              "93     93  ...  seventeen year old georgias brother drowns sur...\n",
              "17     17  ...  john jenny beginning life together young love ...\n",
              "9       9  ...  book chronicles unforgettable account one seve...\n",
              "5       5  ...  maybe grandparent teacher colleague someone ol...\n",
              "\n",
              "[5 rows x 9 columns]"
            ]
          },
          "metadata": {
            "tags": []
          },
          "execution_count": 468
        }
      ]
    },
    {
      "cell_type": "markdown",
      "metadata": {
        "id": "26DN3hftcvqG"
      },
      "source": [
        "#  Building TF-IDF Word2Vec Model\n"
      ]
    },
    {
      "cell_type": "code",
      "metadata": {
        "id": "Ejfbd9OMco_w"
      },
      "source": [
        "#Building TFIDF model and calculate TFIDF score\n",
        "\n",
        "tfidf = TfidfVectorizer(analyzer='word', ngram_range=(1, 3), min_df = 5, stop_words='english')\n",
        "tfidf.fit(df['cleaned'])\n",
        "\n",
        "# Getting the words from the TF-IDF model\n",
        "\n",
        "tfidf_list = dict(zip(tfidf.get_feature_names(), list(tfidf.idf_)))\n",
        "tfidf_feature = tfidf.get_feature_names() # tfidf words/col-names"
      ],
      "execution_count": null,
      "outputs": []
    },
    {
      "cell_type": "code",
      "metadata": {
        "id": "RxX4T_SHcxkV"
      },
      "source": [
        "# Building TF-IDF Word2Vec \n",
        "\n",
        "# Storing the TFIDF Word2Vec embeddings\n",
        "tfidf_vectors = []; \n",
        "line = 0;\n",
        "# for each book description\n",
        "for desc in corpus: \n",
        "  # Word vectors are of zero length (Used 300 dimensions)\n",
        "    sent_vec = np.zeros(300) \n",
        "    # num of words with a valid vector in the book description\n",
        "    weight_sum =0; \n",
        "    # for each word in the book description\n",
        "    for word in desc: \n",
        "        if word in google_model.wv.vocab and word in tfidf_feature:\n",
        "            vec = google_model.wv[word]\n",
        "            tf_idf = tfidf_list[word] * (desc.count(word) / len(desc))\n",
        "            sent_vec += (vec * tf_idf)\n",
        "            weight_sum += tf_idf\n",
        "    if weight_sum != 0:\n",
        "        sent_vec /= weight_sum\n",
        "    tfidf_vectors.append(sent_vec)\n",
        "    line += 1"
      ],
      "execution_count": null,
      "outputs": []
    },
    {
      "cell_type": "code",
      "metadata": {
        "colab": {
          "base_uri": "https://localhost:8080/"
        },
        "id": "RB0HkevTczLS",
        "outputId": "ae11c51f-2507-45a0-96f9-af21241f3e59"
      },
      "source": [
        "len(tfidf_vectors)"
      ],
      "execution_count": null,
      "outputs": [
        {
          "output_type": "execute_result",
          "data": {
            "text/plain": [
              "122"
            ]
          },
          "metadata": {
            "tags": []
          },
          "execution_count": 471
        }
      ]
    },
    {
      "cell_type": "code",
      "metadata": {
        "id": "gnzWK9MEc04C"
      },
      "source": [
        "#Recommending top 5 similar books\n",
        "\n",
        "def recommendations_tfidf(title):\n",
        "    \n",
        "    # finding cosine similarity for the vectors\n",
        "\n",
        "    cosine_similarities = cosine_similarity(tfidf_vectors,  tfidf_vectors)\n",
        "    \n",
        "    # taking the title and book image link and store in new data frame called books\n",
        "    books = df['name']\n",
        "    #Reverse mapping of the index\n",
        "    indices = pd.Series(df.index, index = df['name']).drop_duplicates()\n",
        "         \n",
        "    idx = indices[title]\n",
        "    sim_scores = list(enumerate(cosine_similarities[idx]))\n",
        "    sim_scores = sorted(sim_scores, key = lambda x: x[1], reverse = True)\n",
        "    sim_scores = sim_scores[1:6]\n",
        "    book_indices = [i[0] for i in sim_scores]\n",
        "    recommend = books.iloc[book_indices]\n",
        "    return recommend"
      ],
      "execution_count": null,
      "outputs": []
    },
    {
      "cell_type": "code",
      "metadata": {
        "id": "XsBKEz0Fc7oK"
      },
      "source": [
        "rec = recommendations_tfidf(\"Fantasy League\")"
      ],
      "execution_count": null,
      "outputs": []
    },
    {
      "cell_type": "code",
      "metadata": {
        "colab": {
          "base_uri": "https://localhost:8080/",
          "height": 81
        },
        "id": "HcUG1GoCmxK5",
        "outputId": "ded8b96d-0f4e-402f-fdf4-8c244d0f35cf"
      },
      "source": [
        "df[df['name'] == 'Fantasy League']"
      ],
      "execution_count": null,
      "outputs": [
        {
          "output_type": "execute_result",
          "data": {
            "text/html": [
              "<div>\n",
              "<style scoped>\n",
              "    .dataframe tbody tr th:only-of-type {\n",
              "        vertical-align: middle;\n",
              "    }\n",
              "\n",
              "    .dataframe tbody tr th {\n",
              "        vertical-align: top;\n",
              "    }\n",
              "\n",
              "    .dataframe thead th {\n",
              "        text-align: right;\n",
              "    }\n",
              "</style>\n",
              "<table border=\"1\" class=\"dataframe\">\n",
              "  <thead>\n",
              "    <tr style=\"text-align: right;\">\n",
              "      <th></th>\n",
              "      <th>index</th>\n",
              "      <th>book_id</th>\n",
              "      <th>name</th>\n",
              "      <th>description</th>\n",
              "      <th>genre</th>\n",
              "      <th>author</th>\n",
              "      <th>avg_rating</th>\n",
              "      <th>no_of_ratings</th>\n",
              "      <th>cleaned</th>\n",
              "    </tr>\n",
              "  </thead>\n",
              "  <tbody>\n",
              "    <tr>\n",
              "      <th>56</th>\n",
              "      <td>56</td>\n",
              "      <td>3828.0</td>\n",
              "      <td>Fantasy League</td>\n",
              "      <td>12-year-old Charlie is a fantasy football guru...</td>\n",
              "      <td>Children's Books</td>\n",
              "      <td>Mike Lupica</td>\n",
              "      <td>4.2</td>\n",
              "      <td>897.0</td>\n",
              "      <td>12 year old charlie fantasy football guru may ...</td>\n",
              "    </tr>\n",
              "  </tbody>\n",
              "</table>\n",
              "</div>"
            ],
            "text/plain": [
              "    index  ...                                            cleaned\n",
              "56     56  ...  12 year old charlie fantasy football guru may ...\n",
              "\n",
              "[1 rows x 9 columns]"
            ]
          },
          "metadata": {
            "tags": []
          },
          "execution_count": 474
        }
      ]
    },
    {
      "cell_type": "code",
      "metadata": {
        "colab": {
          "base_uri": "https://localhost:8080/",
          "height": 293
        },
        "id": "gs6XOpOJmzE1",
        "outputId": "429e4539-e35e-4779-9b09-9756832a633a"
      },
      "source": [
        "list_of_indexes = rec.index.to_list()\n",
        "out = test = df.iloc[list_of_indexes]\n",
        "out"
      ],
      "execution_count": null,
      "outputs": [
        {
          "output_type": "execute_result",
          "data": {
            "text/html": [
              "<div>\n",
              "<style scoped>\n",
              "    .dataframe tbody tr th:only-of-type {\n",
              "        vertical-align: middle;\n",
              "    }\n",
              "\n",
              "    .dataframe tbody tr th {\n",
              "        vertical-align: top;\n",
              "    }\n",
              "\n",
              "    .dataframe thead th {\n",
              "        text-align: right;\n",
              "    }\n",
              "</style>\n",
              "<table border=\"1\" class=\"dataframe\">\n",
              "  <thead>\n",
              "    <tr style=\"text-align: right;\">\n",
              "      <th></th>\n",
              "      <th>index</th>\n",
              "      <th>book_id</th>\n",
              "      <th>name</th>\n",
              "      <th>description</th>\n",
              "      <th>genre</th>\n",
              "      <th>author</th>\n",
              "      <th>avg_rating</th>\n",
              "      <th>no_of_ratings</th>\n",
              "      <th>cleaned</th>\n",
              "    </tr>\n",
              "  </thead>\n",
              "  <tbody>\n",
              "    <tr>\n",
              "      <th>26</th>\n",
              "      <td>26</td>\n",
              "      <td>4414.0</td>\n",
              "      <td>Bossypants</td>\n",
              "      <td>Before Liz Lemon, before \"Weekend Update,\" bef...</td>\n",
              "      <td>Biographies &amp; Memoirs</td>\n",
              "      <td>Tina Fey</td>\n",
              "      <td>3.95</td>\n",
              "      <td>6768.0</td>\n",
              "      <td>liz lemon weekend update sarah palin tina fey ...</td>\n",
              "    </tr>\n",
              "    <tr>\n",
              "      <th>7</th>\n",
              "      <td>7</td>\n",
              "      <td>3190.0</td>\n",
              "      <td>Into the Wild</td>\n",
              "      <td>In April 1992 a young man from a well-to-do fa...</td>\n",
              "      <td>Biographies &amp; Memoirs</td>\n",
              "      <td>Jon Krakauer</td>\n",
              "      <td>3.96</td>\n",
              "      <td>7275.0</td>\n",
              "      <td>april 1992 young man well to do family hitchhi...</td>\n",
              "    </tr>\n",
              "    <tr>\n",
              "      <th>5</th>\n",
              "      <td>5</td>\n",
              "      <td>518.0</td>\n",
              "      <td>Tuesdays with Morrie</td>\n",
              "      <td>Maybe it was a grandparent, or a teacher or a ...</td>\n",
              "      <td>Biographies &amp; Memoirs</td>\n",
              "      <td>Mitch Albom</td>\n",
              "      <td>4.08</td>\n",
              "      <td>6250.0</td>\n",
              "      <td>maybe grandparent teacher colleague someone ol...</td>\n",
              "    </tr>\n",
              "    <tr>\n",
              "      <th>93</th>\n",
              "      <td>93</td>\n",
              "      <td>3574.0</td>\n",
              "      <td>If You're Lucky</td>\n",
              "      <td>When seventeen-year-old Georgia�s brother drow...</td>\n",
              "      <td>Teen &amp; Young Adult</td>\n",
              "      <td>Yvonne Prinz</td>\n",
              "      <td>3.49</td>\n",
              "      <td>455.0</td>\n",
              "      <td>seventeen year old georgias brother drowns sur...</td>\n",
              "    </tr>\n",
              "    <tr>\n",
              "      <th>84</th>\n",
              "      <td>84</td>\n",
              "      <td>3018.0</td>\n",
              "      <td>My Fair Gentleman: A Proper Romance</td>\n",
              "      <td>Jack would rather be at sea than fixing the mi...</td>\n",
              "      <td>Romance</td>\n",
              "      <td>Nancy Campbell Allen</td>\n",
              "      <td>NaN</td>\n",
              "      <td>NaN</td>\n",
              "      <td>jack would rather sea fixing mistakes grandfat...</td>\n",
              "    </tr>\n",
              "  </tbody>\n",
              "</table>\n",
              "</div>"
            ],
            "text/plain": [
              "    index  ...                                            cleaned\n",
              "26     26  ...  liz lemon weekend update sarah palin tina fey ...\n",
              "7       7  ...  april 1992 young man well to do family hitchhi...\n",
              "5       5  ...  maybe grandparent teacher colleague someone ol...\n",
              "93     93  ...  seventeen year old georgias brother drowns sur...\n",
              "84     84  ...  jack would rather sea fixing mistakes grandfat...\n",
              "\n",
              "[5 rows x 9 columns]"
            ]
          },
          "metadata": {
            "tags": []
          },
          "execution_count": 475
        }
      ]
    },
    {
      "cell_type": "markdown",
      "metadata": {
        "id": "U3UHLtOSt_RW"
      },
      "source": [
        "## Constraintions in CB_F"
      ]
    },
    {
      "cell_type": "code",
      "metadata": {
        "id": "ny5jYwbFt_A-"
      },
      "source": [
        "#Recommending top 5 similar books\n",
        "\n",
        "def recommendations(title):    \n",
        "    #Reverse mapping of the index\n",
        "    indices = pd.Series(df.index, index = df['name']).drop_duplicates()\n",
        "    idx = indices[title]\n",
        "    idc = df.index.to_list()\n",
        "\n",
        "    # Handling right index\n",
        "    if idx in idc:\n",
        "      val1 = idc.index(idx)\n",
        "    else:\n",
        "      idc.append(idx)\n",
        "      val1 = -1\n",
        "    \n",
        "    print('Genre: ', df['genre'][idx])\n",
        "    temp = [tfidf_vectors[i] for i in idc]\n",
        "    \n",
        "    # finding cosine similarity for the vectors\n",
        "    cosine_similarities = cosine_similarity(temp,  temp)\n",
        "\n",
        "    # Considering metadata (book genre and book's author) in recommendations\n",
        "    for i in idc:\n",
        "      if df.iloc[i]['genre'] != df['genre'][idx]:\n",
        "        cosine_similarities[val1][idc.index(i)] /= 2\n",
        "      elif df.iloc[i]['author'] == df['author'][idx]:\n",
        "        cosine_similarities[val1][idc.index(i)] *= 1.1\n",
        "\n",
        "\n",
        "    books = df['name']\n",
        "    sim_scores = list(enumerate(cosine_similarities[val1]))\n",
        "    sim_scores = sorted(sim_scores,\n",
        "    key = lambda x: x[1], reverse = True)\n",
        "    sim_scores = sim_scores[1:6]\n",
        "\n",
        "    book_indices = [i[0] for i in sim_scores]\n",
        "    recommend = books.iloc[book_indices]\n",
        "    return recommend"
      ],
      "execution_count": null,
      "outputs": []
    },
    {
      "cell_type": "code",
      "metadata": {
        "colab": {
          "base_uri": "https://localhost:8080/"
        },
        "id": "mAE1zyGWnKzl",
        "outputId": "d4e0bfe5-647f-4a5f-c733-792039ec7010"
      },
      "source": [
        "rec = recommendations(\"Fantasy League\")\n"
      ],
      "execution_count": null,
      "outputs": [
        {
          "output_type": "stream",
          "text": [
            "Genre:  Children's Books\n"
          ],
          "name": "stdout"
        }
      ]
    },
    {
      "cell_type": "code",
      "metadata": {
        "colab": {
          "base_uri": "https://localhost:8080/",
          "height": 293
        },
        "id": "sWYKD4a6uTLR",
        "outputId": "796b2ce0-e5bd-4a6d-966b-9abdf80fecee"
      },
      "source": [
        "list_of_indexes = rec.index.to_list()\n",
        "test = df.iloc[list_of_indexes]\n",
        "test"
      ],
      "execution_count": null,
      "outputs": [
        {
          "output_type": "execute_result",
          "data": {
            "text/html": [
              "<div>\n",
              "<style scoped>\n",
              "    .dataframe tbody tr th:only-of-type {\n",
              "        vertical-align: middle;\n",
              "    }\n",
              "\n",
              "    .dataframe tbody tr th {\n",
              "        vertical-align: top;\n",
              "    }\n",
              "\n",
              "    .dataframe thead th {\n",
              "        text-align: right;\n",
              "    }\n",
              "</style>\n",
              "<table border=\"1\" class=\"dataframe\">\n",
              "  <thead>\n",
              "    <tr style=\"text-align: right;\">\n",
              "      <th></th>\n",
              "      <th>index</th>\n",
              "      <th>book_id</th>\n",
              "      <th>name</th>\n",
              "      <th>description</th>\n",
              "      <th>genre</th>\n",
              "      <th>author</th>\n",
              "      <th>avg_rating</th>\n",
              "      <th>no_of_ratings</th>\n",
              "      <th>cleaned</th>\n",
              "    </tr>\n",
              "  </thead>\n",
              "  <tbody>\n",
              "    <tr>\n",
              "      <th>116</th>\n",
              "      <td>116</td>\n",
              "      <td>2441.0</td>\n",
              "      <td>Beyond Courage: The Untold Story of Jewish Res...</td>\n",
              "      <td>Under the noses of the military, Georges Loing...</td>\n",
              "      <td>Children's Books</td>\n",
              "      <td>Doreen Rappaport</td>\n",
              "      <td>4.15</td>\n",
              "      <td>809.0</td>\n",
              "      <td>noses military georges loinger smuggles thousa...</td>\n",
              "    </tr>\n",
              "    <tr>\n",
              "      <th>103</th>\n",
              "      <td>103</td>\n",
              "      <td>3075.0</td>\n",
              "      <td>It's St. Patrick's Day (Turtleback School &amp; Li...</td>\n",
              "      <td>This Level 1 rhyming reader introduces young c...</td>\n",
              "      <td>Children's Books</td>\n",
              "      <td>Rebecca Gomez</td>\n",
              "      <td>3.12</td>\n",
              "      <td>67.0</td>\n",
              "      <td>level 1 rhyming reader introduces young childr...</td>\n",
              "    </tr>\n",
              "    <tr>\n",
              "      <th>110</th>\n",
              "      <td>110</td>\n",
              "      <td>2709.0</td>\n",
              "      <td>Ready, Freddy! #22: Science Fair Flop</td>\n",
              "      <td>Everyone's favorite first-grade shark expert i...</td>\n",
              "      <td>Children's Books</td>\n",
              "      <td>Abby Klein</td>\n",
              "      <td>3.95</td>\n",
              "      <td>96.0</td>\n",
              "      <td>everyone s favorite first grade shark expert b...</td>\n",
              "    </tr>\n",
              "    <tr>\n",
              "      <th>65</th>\n",
              "      <td>65</td>\n",
              "      <td>322.0</td>\n",
              "      <td>Shortcut</td>\n",
              "      <td>The train tracks ran right by Bigmama's house ...</td>\n",
              "      <td>Children's Books</td>\n",
              "      <td>Donald Crews</td>\n",
              "      <td>4.00</td>\n",
              "      <td>362.0</td>\n",
              "      <td>train tracks ran right bigmama s house cottond...</td>\n",
              "    </tr>\n",
              "    <tr>\n",
              "      <th>38</th>\n",
              "      <td>38</td>\n",
              "      <td>3196.0</td>\n",
              "      <td>A Handful of Stars</td>\n",
              "      <td>This powerful middle-grade novel from the Newb...</td>\n",
              "      <td>Children's Books</td>\n",
              "      <td>Cynthia Lord</td>\n",
              "      <td>4.16</td>\n",
              "      <td>3611.0</td>\n",
              "      <td>powerful middle grade novel newbery honor auth...</td>\n",
              "    </tr>\n",
              "  </tbody>\n",
              "</table>\n",
              "</div>"
            ],
            "text/plain": [
              "     index  ...                                            cleaned\n",
              "116    116  ...  noses military georges loinger smuggles thousa...\n",
              "103    103  ...  level 1 rhyming reader introduces young childr...\n",
              "110    110  ...  everyone s favorite first grade shark expert b...\n",
              "65      65  ...  train tracks ran right bigmama s house cottond...\n",
              "38      38  ...  powerful middle grade novel newbery honor auth...\n",
              "\n",
              "[5 rows x 9 columns]"
            ]
          },
          "metadata": {
            "tags": []
          },
          "execution_count": 478
        }
      ]
    },
    {
      "cell_type": "markdown",
      "metadata": {
        "id": "uZEEGj4vwSYc"
      },
      "source": [
        "# Partition dataset into clusters"
      ]
    },
    {
      "cell_type": "markdown",
      "metadata": {
        "id": "M3P0VC3Z0QKp"
      },
      "source": [
        "## Preperation of dataset"
      ]
    },
    {
      "cell_type": "code",
      "metadata": {
        "id": "xjCOqvuO5sYN"
      },
      "source": [
        "new_df = df.dropna(subset=['avg_rating', 'no_of_ratings'])"
      ],
      "execution_count": null,
      "outputs": []
    },
    {
      "cell_type": "code",
      "metadata": {
        "id": "oeEnGOr47RQ_"
      },
      "source": [
        "new_df.reset_index(inplace=True)"
      ],
      "execution_count": null,
      "outputs": []
    },
    {
      "cell_type": "code",
      "metadata": {
        "colab": {
          "base_uri": "https://localhost:8080/"
        },
        "id": "LulL-mep5u4U",
        "outputId": "92009f39-ad2d-4f7c-d597-881540fefa29"
      },
      "source": [
        "new_df.shape"
      ],
      "execution_count": null,
      "outputs": [
        {
          "output_type": "execute_result",
          "data": {
            "text/plain": [
              "(102, 10)"
            ]
          },
          "metadata": {
            "tags": []
          },
          "execution_count": 499
        }
      ]
    },
    {
      "cell_type": "markdown",
      "metadata": {
        "id": "p8zeybSl0tBN"
      },
      "source": [
        "## Applying Elbow Method"
      ]
    },
    {
      "cell_type": "code",
      "metadata": {
        "colab": {
          "base_uri": "https://localhost:8080/",
          "height": 206
        },
        "id": "YaDPx7uvylRw",
        "outputId": "185a71d2-4cd1-4696-e9a4-168be08052cc"
      },
      "source": [
        "samples = new_df[['avg_rating', 'no_of_ratings']]\n",
        "samples.head()"
      ],
      "execution_count": null,
      "outputs": [
        {
          "output_type": "execute_result",
          "data": {
            "text/html": [
              "<div>\n",
              "<style scoped>\n",
              "    .dataframe tbody tr th:only-of-type {\n",
              "        vertical-align: middle;\n",
              "    }\n",
              "\n",
              "    .dataframe tbody tr th {\n",
              "        vertical-align: top;\n",
              "    }\n",
              "\n",
              "    .dataframe thead th {\n",
              "        text-align: right;\n",
              "    }\n",
              "</style>\n",
              "<table border=\"1\" class=\"dataframe\">\n",
              "  <thead>\n",
              "    <tr style=\"text-align: right;\">\n",
              "      <th></th>\n",
              "      <th>avg_rating</th>\n",
              "      <th>no_of_ratings</th>\n",
              "    </tr>\n",
              "  </thead>\n",
              "  <tbody>\n",
              "    <tr>\n",
              "      <th>0</th>\n",
              "      <td>4.25</td>\n",
              "      <td>7156.0</td>\n",
              "    </tr>\n",
              "    <tr>\n",
              "      <th>1</th>\n",
              "      <td>4.31</td>\n",
              "      <td>7821.0</td>\n",
              "    </tr>\n",
              "    <tr>\n",
              "      <th>2</th>\n",
              "      <td>4.08</td>\n",
              "      <td>3836.0</td>\n",
              "    </tr>\n",
              "    <tr>\n",
              "      <th>3</th>\n",
              "      <td>3.52</td>\n",
              "      <td>1245.0</td>\n",
              "    </tr>\n",
              "    <tr>\n",
              "      <th>4</th>\n",
              "      <td>4.13</td>\n",
              "      <td>3107.0</td>\n",
              "    </tr>\n",
              "  </tbody>\n",
              "</table>\n",
              "</div>"
            ],
            "text/plain": [
              "   avg_rating  no_of_ratings\n",
              "0        4.25         7156.0\n",
              "1        4.31         7821.0\n",
              "2        4.08         3836.0\n",
              "3        3.52         1245.0\n",
              "4        4.13         3107.0"
            ]
          },
          "metadata": {
            "tags": []
          },
          "execution_count": 500
        }
      ]
    },
    {
      "cell_type": "code",
      "metadata": {
        "id": "7JBNm04601_-"
      },
      "source": [
        "samples.dropna(inplace=True)\n",
        "xs = samples.iloc[:,0]\n",
        "ys = samples.iloc[:,1]"
      ],
      "execution_count": null,
      "outputs": []
    },
    {
      "cell_type": "code",
      "metadata": {
        "colab": {
          "base_uri": "https://localhost:8080/",
          "height": 282
        },
        "id": "o5Nf7l_i1Rmv",
        "outputId": "c19f3b0c-b2e4-46ae-9f4e-bd2293a15a36"
      },
      "source": [
        "plt.scatter(xs,ys)"
      ],
      "execution_count": null,
      "outputs": [
        {
          "output_type": "execute_result",
          "data": {
            "text/plain": [
              "<matplotlib.collections.PathCollection at 0x7feeafaad450>"
            ]
          },
          "metadata": {
            "tags": []
          },
          "execution_count": 502
        },
        {
          "output_type": "display_data",
          "data": {
            "image/png": "[encoded data removed]",
            "text/plain": [
              "<Figure size 432x288 with 1 Axes>"
            ]
          },
          "metadata": {
            "tags": [],
            "needs_background": "light"
          }
        }
      ]
    },
    {
      "cell_type": "code",
      "metadata": {
        "colab": {
          "base_uri": "https://localhost:8080/"
        },
        "id": "odtc-Hl71UHB",
        "outputId": "bd763fa5-81bf-4778-d364-eff2add385a0"
      },
      "source": [
        "from sklearn.cluster import KMeans\n",
        "ks=range(1,6)\n",
        "inertias=[]\n",
        "for k in ks:\n",
        "    model=KMeans(n_clusters=k)\n",
        "    model.fit(samples)\n",
        "    inertia=model.inertia_\n",
        "    inertias.append(inertia)\n",
        "    \n",
        "inertias    "
      ],
      "execution_count": null,
      "outputs": [
        {
          "output_type": "execute_result",
          "data": {
            "text/plain": [
              "[462898280.62320095,\n",
              " 95095706.98611939,\n",
              " 31086149.68598505,\n",
              " 15098743.416602124,\n",
              " 9972895.260626325]"
            ]
          },
          "metadata": {
            "tags": []
          },
          "execution_count": 503
        }
      ]
    },
    {
      "cell_type": "code",
      "metadata": {
        "colab": {
          "base_uri": "https://localhost:8080/",
          "height": 290
        },
        "id": "q-JrMlWN1XM_",
        "outputId": "5308e2d1-64a3-4cdd-dcfb-eedf7988aa13"
      },
      "source": [
        "import matplotlib.pyplot as plt\n",
        "plt.plot(ks, inertias);\n",
        "plt.xlabel('ks');\n",
        "plt.ylabel('inertias');"
      ],
      "execution_count": null,
      "outputs": [
        {
          "output_type": "display_data",
          "data": {
            "image/png": "[encoded data removed]",
            "text/plain": [
              "<Figure size 432x288 with 1 Axes>"
            ]
          },
          "metadata": {
            "tags": [],
            "needs_background": "light"
          }
        }
      ]
    },
    {
      "cell_type": "code",
      "metadata": {
        "colab": {
          "base_uri": "https://localhost:8080/",
          "height": 282
        },
        "id": "L3HljhIC1aGg",
        "outputId": "fd9a6956-4549-450d-e4ca-41aff58bfa81"
      },
      "source": [
        "model2=KMeans(n_clusters=10)\n",
        "model2.fit(samples)\n",
        "labels=model2.predict(samples)\n",
        "\n",
        "labels\n",
        "xs=samples.iloc[:,0]\n",
        "ys=samples.iloc[:,1]\n",
        "plt.scatter(xs,ys,c=labels)\n"
      ],
      "execution_count": null,
      "outputs": [
        {
          "output_type": "execute_result",
          "data": {
            "text/plain": [
              "<matplotlib.collections.PathCollection at 0x7feeaf8b3590>"
            ]
          },
          "metadata": {
            "tags": []
          },
          "execution_count": 505
        },
        {
          "output_type": "display_data",
          "data": {
            "image/png": "[encoded data removed]",
            "text/plain": [
              "<Figure size 432x288 with 1 Axes>"
            ]
          },
          "metadata": {
            "tags": [],
            "needs_background": "light"
          }
        }
      ]
    },
    {
      "cell_type": "code",
      "metadata": {
        "colab": {
          "base_uri": "https://localhost:8080/",
          "height": 206
        },
        "id": "ovrPe0ky2bCW",
        "outputId": "e096a8eb-908d-4991-a649-9a5ff4998844"
      },
      "source": [
        "samples['label'] = model2.labels_\n",
        "samples.head()"
      ],
      "execution_count": null,
      "outputs": [
        {
          "output_type": "execute_result",
          "data": {
            "text/html": [
              "<div>\n",
              "<style scoped>\n",
              "    .dataframe tbody tr th:only-of-type {\n",
              "        vertical-align: middle;\n",
              "    }\n",
              "\n",
              "    .dataframe tbody tr th {\n",
              "        vertical-align: top;\n",
              "    }\n",
              "\n",
              "    .dataframe thead th {\n",
              "        text-align: right;\n",
              "    }\n",
              "</style>\n",
              "<table border=\"1\" class=\"dataframe\">\n",
              "  <thead>\n",
              "    <tr style=\"text-align: right;\">\n",
              "      <th></th>\n",
              "      <th>avg_rating</th>\n",
              "      <th>no_of_ratings</th>\n",
              "      <th>label</th>\n",
              "    </tr>\n",
              "  </thead>\n",
              "  <tbody>\n",
              "    <tr>\n",
              "      <th>0</th>\n",
              "      <td>4.25</td>\n",
              "      <td>7156.0</td>\n",
              "      <td>6</td>\n",
              "    </tr>\n",
              "    <tr>\n",
              "      <th>1</th>\n",
              "      <td>4.31</td>\n",
              "      <td>7821.0</td>\n",
              "      <td>6</td>\n",
              "    </tr>\n",
              "    <tr>\n",
              "      <th>2</th>\n",
              "      <td>4.08</td>\n",
              "      <td>3836.0</td>\n",
              "      <td>7</td>\n",
              "    </tr>\n",
              "    <tr>\n",
              "      <th>3</th>\n",
              "      <td>3.52</td>\n",
              "      <td>1245.0</td>\n",
              "      <td>4</td>\n",
              "    </tr>\n",
              "    <tr>\n",
              "      <th>4</th>\n",
              "      <td>4.13</td>\n",
              "      <td>3107.0</td>\n",
              "      <td>5</td>\n",
              "    </tr>\n",
              "  </tbody>\n",
              "</table>\n",
              "</div>"
            ],
            "text/plain": [
              "   avg_rating  no_of_ratings  label\n",
              "0        4.25         7156.0      6\n",
              "1        4.31         7821.0      6\n",
              "2        4.08         3836.0      7\n",
              "3        3.52         1245.0      4\n",
              "4        4.13         3107.0      5"
            ]
          },
          "metadata": {
            "tags": []
          },
          "execution_count": 506
        }
      ]
    },
    {
      "cell_type": "code",
      "metadata": {
        "colab": {
          "base_uri": "https://localhost:8080/",
          "height": 293
        },
        "id": "gIe6kes22ezN",
        "outputId": "a836ce43-5618-43b3-aac1-8cddfad991db"
      },
      "source": [
        "new_df['label'] = model2.labels_\n",
        "new_df.head()"
      ],
      "execution_count": null,
      "outputs": [
        {
          "output_type": "execute_result",
          "data": {
            "text/html": [
              "<div>\n",
              "<style scoped>\n",
              "    .dataframe tbody tr th:only-of-type {\n",
              "        vertical-align: middle;\n",
              "    }\n",
              "\n",
              "    .dataframe tbody tr th {\n",
              "        vertical-align: top;\n",
              "    }\n",
              "\n",
              "    .dataframe thead th {\n",
              "        text-align: right;\n",
              "    }\n",
              "</style>\n",
              "<table border=\"1\" class=\"dataframe\">\n",
              "  <thead>\n",
              "    <tr style=\"text-align: right;\">\n",
              "      <th></th>\n",
              "      <th>level_0</th>\n",
              "      <th>index</th>\n",
              "      <th>book_id</th>\n",
              "      <th>name</th>\n",
              "      <th>description</th>\n",
              "      <th>genre</th>\n",
              "      <th>author</th>\n",
              "      <th>avg_rating</th>\n",
              "      <th>no_of_ratings</th>\n",
              "      <th>cleaned</th>\n",
              "      <th>label</th>\n",
              "    </tr>\n",
              "  </thead>\n",
              "  <tbody>\n",
              "    <tr>\n",
              "      <th>0</th>\n",
              "      <td>0</td>\n",
              "      <td>0</td>\n",
              "      <td>4833.0</td>\n",
              "      <td>The Glass Castle</td>\n",
              "      <td>A tender, moving tale of unconditional love in...</td>\n",
              "      <td>Biographies &amp; Memoirs</td>\n",
              "      <td>Jeannette Walls</td>\n",
              "      <td>4.25</td>\n",
              "      <td>7156.0</td>\n",
              "      <td>tender moving tale unconditional love family t...</td>\n",
              "      <td>6</td>\n",
              "    </tr>\n",
              "    <tr>\n",
              "      <th>1</th>\n",
              "      <td>1</td>\n",
              "      <td>1</td>\n",
              "      <td>590.0</td>\n",
              "      <td>Night (The Night Trilogy, #1)</td>\n",
              "      <td>Born into a Jewish ghetto in Hungary, as a chi...</td>\n",
              "      <td>Biographies &amp; Memoirs</td>\n",
              "      <td>Elie Wiesel</td>\n",
              "      <td>4.31</td>\n",
              "      <td>7821.0</td>\n",
              "      <td>born jewish ghetto hungary child elie wiesel s...</td>\n",
              "      <td>6</td>\n",
              "    </tr>\n",
              "    <tr>\n",
              "      <th>2</th>\n",
              "      <td>2</td>\n",
              "      <td>2</td>\n",
              "      <td>4264.0</td>\n",
              "      <td>Angela's Ashes (Frank McCourt, #1)</td>\n",
              "      <td>Imbued on every page with Frank McCourt's asto...</td>\n",
              "      <td>Biographies &amp; Memoirs</td>\n",
              "      <td>Frank McCourt</td>\n",
              "      <td>4.08</td>\n",
              "      <td>3836.0</td>\n",
              "      <td>imbued every page frank mccourt s astounding h...</td>\n",
              "      <td>7</td>\n",
              "    </tr>\n",
              "    <tr>\n",
              "      <th>3</th>\n",
              "      <td>3</td>\n",
              "      <td>3</td>\n",
              "      <td>3361.0</td>\n",
              "      <td>Eat, Pray, Love</td>\n",
              "      <td>A celebrated writer's irresistible, candid, an...</td>\n",
              "      <td>Biographies &amp; Memoirs</td>\n",
              "      <td>Elizabeth Gilbert</td>\n",
              "      <td>3.52</td>\n",
              "      <td>1245.0</td>\n",
              "      <td>celebrated writer s irresistible candid eloque...</td>\n",
              "      <td>4</td>\n",
              "    </tr>\n",
              "    <tr>\n",
              "      <th>4</th>\n",
              "      <td>4</td>\n",
              "      <td>4</td>\n",
              "      <td>4535.0</td>\n",
              "      <td>Into Thin Air: A Personal Account of the Mount...</td>\n",
              "      <td>A bank of clouds was assembling on the not-so-...</td>\n",
              "      <td>Biographies &amp; Memoirs</td>\n",
              "      <td>Jon Krakauer</td>\n",
              "      <td>4.13</td>\n",
              "      <td>3107.0</td>\n",
              "      <td>bank clouds assembling not so distant horizon ...</td>\n",
              "      <td>5</td>\n",
              "    </tr>\n",
              "  </tbody>\n",
              "</table>\n",
              "</div>"
            ],
            "text/plain": [
              "   level_0  index  ...                                            cleaned label\n",
              "0        0      0  ...  tender moving tale unconditional love family t...     6\n",
              "1        1      1  ...  born jewish ghetto hungary child elie wiesel s...     6\n",
              "2        2      2  ...  imbued every page frank mccourt s astounding h...     7\n",
              "3        3      3  ...  celebrated writer s irresistible candid eloque...     4\n",
              "4        4      4  ...  bank clouds assembling not so distant horizon ...     5\n",
              "\n",
              "[5 rows x 11 columns]"
            ]
          },
          "metadata": {
            "tags": []
          },
          "execution_count": 507
        }
      ]
    },
    {
      "cell_type": "code",
      "metadata": {
        "colab": {
          "base_uri": "https://localhost:8080/",
          "height": 265
        },
        "id": "f9FYFxPM2klt",
        "outputId": "5a1e1a75-deaa-4438-ed98-6f8761ba33e2"
      },
      "source": [
        "filtered_label0 = samples[samples['label'] == 0]\n",
        "filtered_label1 = samples[samples['label'] == 1]\n",
        "filtered_label2 = samples[samples['label'] == 2]\n",
        "filtered_label3 = samples[samples['label'] == 3]\n",
        "filtered_label4 = samples[samples['label'] == 4]\n",
        "filtered_label5 = samples[samples['label'] == 5] \n",
        "filtered_label6 = samples[samples['label'] == 6] \n",
        "filtered_label7 = samples[samples['label'] == 7] \n",
        "filtered_label8 = samples[samples['label'] == 8] \n",
        "filtered_label9 = samples[samples['label'] == 9] \n",
        "\n",
        "\n",
        "\n",
        "#Plotting the results \n",
        "plt.scatter(filtered_label0.iloc[:,0] , filtered_label0.iloc[:,1] , color = 'red')\n",
        "plt.scatter(filtered_label1.iloc[:,0] , filtered_label1.iloc[:,1] , color = 'black') \n",
        "plt.scatter(filtered_label2.iloc[:,0] , filtered_label2.iloc[:,1] , color = 'green') \n",
        "plt.scatter(filtered_label3.iloc[:,0] , filtered_label3.iloc[:,1] , color = 'blue') \n",
        "plt.scatter(filtered_label4.iloc[:,0] , filtered_label4.iloc[:,1] , color = 'orange') \n",
        "\n",
        "plt.scatter(filtered_label5.iloc[:,0] , filtered_label5.iloc[:,1] , color = 'yellow') \n",
        "plt.scatter(filtered_label6.iloc[:,0] , filtered_label6.iloc[:,1] , color = 'pink') \n",
        "plt.scatter(filtered_label7.iloc[:,0] , filtered_label7.iloc[:,1] , color = 'purple')\n",
        "plt.scatter(filtered_label8.iloc[:,0] , filtered_label8.iloc[:,1] , color = 'brown')\n",
        "plt.scatter(filtered_label9.iloc[:,0] , filtered_label9.iloc[:,1] , color = 'Gold') \n",
        "plt.show()"
      ],
      "execution_count": null,
      "outputs": [
        {
          "output_type": "display_data",
          "data": {
            "image/png": "[encoded data removed]",
            "text/plain": [
              "<Figure size 432x288 with 1 Axes>"
            ]
          },
          "metadata": {
            "tags": [],
            "needs_background": "light"
          }
        }
      ]
    },
    {
      "cell_type": "code",
      "metadata": {
        "colab": {
          "base_uri": "https://localhost:8080/"
        },
        "id": "CbpiK-ot3Izs",
        "outputId": "0b26216a-eb1d-46ce-b7cb-ba39bba4b871"
      },
      "source": [
        "sa = new_df[new_df['label'] != 0]\n",
        "len(sa)"
      ],
      "execution_count": null,
      "outputs": [
        {
          "output_type": "execute_result",
          "data": {
            "text/plain": [
              "47"
            ]
          },
          "metadata": {
            "tags": []
          },
          "execution_count": 509
        }
      ]
    },
    {
      "cell_type": "code",
      "metadata": {
        "colab": {
          "base_uri": "https://localhost:8080/"
        },
        "id": "dw1h00BJ3Qnb",
        "outputId": "a636edca-7cb1-4d60-f5f1-075d6a19128c"
      },
      "source": [
        "len(new_df)"
      ],
      "execution_count": null,
      "outputs": [
        {
          "output_type": "execute_result",
          "data": {
            "text/plain": [
              "102"
            ]
          },
          "metadata": {
            "tags": []
          },
          "execution_count": 510
        }
      ]
    },
    {
      "cell_type": "code",
      "metadata": {
        "colab": {
          "base_uri": "https://localhost:8080/",
          "height": 81
        },
        "id": "6A7ihdsw6zSZ",
        "outputId": "b119c83a-b646-4d71-a543-9f4c98f8db42"
      },
      "source": [
        "new_df[new_df['name'] == 'Fantasy League']"
      ],
      "execution_count": null,
      "outputs": [
        {
          "output_type": "execute_result",
          "data": {
            "text/html": [
              "<div>\n",
              "<style scoped>\n",
              "    .dataframe tbody tr th:only-of-type {\n",
              "        vertical-align: middle;\n",
              "    }\n",
              "\n",
              "    .dataframe tbody tr th {\n",
              "        vertical-align: top;\n",
              "    }\n",
              "\n",
              "    .dataframe thead th {\n",
              "        text-align: right;\n",
              "    }\n",
              "</style>\n",
              "<table border=\"1\" class=\"dataframe\">\n",
              "  <thead>\n",
              "    <tr style=\"text-align: right;\">\n",
              "      <th></th>\n",
              "      <th>level_0</th>\n",
              "      <th>index</th>\n",
              "      <th>book_id</th>\n",
              "      <th>name</th>\n",
              "      <th>description</th>\n",
              "      <th>genre</th>\n",
              "      <th>author</th>\n",
              "      <th>avg_rating</th>\n",
              "      <th>no_of_ratings</th>\n",
              "      <th>cleaned</th>\n",
              "      <th>label</th>\n",
              "    </tr>\n",
              "  </thead>\n",
              "  <tbody>\n",
              "    <tr>\n",
              "      <th>56</th>\n",
              "      <td>56</td>\n",
              "      <td>56</td>\n",
              "      <td>3828.0</td>\n",
              "      <td>Fantasy League</td>\n",
              "      <td>12-year-old Charlie is a fantasy football guru...</td>\n",
              "      <td>Children's Books</td>\n",
              "      <td>Mike Lupica</td>\n",
              "      <td>4.2</td>\n",
              "      <td>897.0</td>\n",
              "      <td>12 year old charlie fantasy football guru may ...</td>\n",
              "      <td>4</td>\n",
              "    </tr>\n",
              "  </tbody>\n",
              "</table>\n",
              "</div>"
            ],
            "text/plain": [
              "    level_0  index  ...                                            cleaned label\n",
              "56       56     56  ...  12 year old charlie fantasy football guru may ...     4\n",
              "\n",
              "[1 rows x 11 columns]"
            ]
          },
          "metadata": {
            "tags": []
          },
          "execution_count": 511
        }
      ]
    },
    {
      "cell_type": "markdown",
      "metadata": {
        "id": "lV0HESkl6R_t"
      },
      "source": [
        "# Recommendations based on clusters"
      ]
    },
    {
      "cell_type": "code",
      "metadata": {
        "id": "JiOdPDT03fvc"
      },
      "source": [
        "#Recommending top 5 similar books\n",
        "\n",
        "def recommendations(title):    \n",
        "\n",
        "    #Reverse mapping of the index\n",
        "    indices = pd.Series(new_df.index, index = new_df['name']).drop_duplicates()\n",
        "    idx = indices[title]\n",
        "    print('Index: ', idx)\n",
        "    idc = sa.index.to_list()\n",
        "\n",
        "\n",
        "    if idx in idc:\n",
        "      val1 = idc.index(idx)\n",
        "    else:\n",
        "      idc.append(idx)\n",
        "      val1 = -1\n",
        "    \n",
        "    \n",
        "    print('Genre: ', new_df['genre'][idx])\n",
        "    temp = [tfidf_vectors[i] for i in idc]\n",
        "    \n",
        "    # finding cosine similarity for the vectors\n",
        "    cosine_similarities = cosine_similarity(temp,  temp)\n",
        "\n",
        "    # Considering book genre             \n",
        "    \n",
        "    print(idc)\n",
        "    for i in idc:\n",
        "      if new_df.iloc[i]['genre'] != new_df['genre'][idx]:\n",
        "        cosine_similarities[val1][idc.index(i)] /= 2    \n",
        "   \n",
        "    print(cosine_similarities[val1])\n",
        "    books = sa['name']\n",
        "    sim_scores = list(enumerate(cosine_similarities[val1]))\n",
        "    print('Len = ', len(cosine_similarities))\n",
        "    sim_scores = sorted(sim_scores,\n",
        "    key = lambda x: x[1], reverse = True)\n",
        "    sim_scores = sim_scores[1:6]\n",
        "    print(sim_scores)\n",
        "\n",
        "    book_indices = [i[0] for i in sim_scores]\n",
        "    recommend = books.iloc[book_indices]\n",
        "    return recommend"
      ],
      "execution_count": null,
      "outputs": []
    },
    {
      "cell_type": "code",
      "metadata": {
        "colab": {
          "base_uri": "https://localhost:8080/"
        },
        "id": "pvX4DXU05sDc",
        "outputId": "d4e309cc-8d34-4766-9cca-bc5b9b5e9874"
      },
      "source": [
        "rec = recommendations(\"Fantasy League\")\n",
        "rec"
      ],
      "execution_count": null,
      "outputs": [
        {
          "output_type": "stream",
          "text": [
            "Index:  56\n",
            "Genre:  Children's Books\n",
            "[0, 1, 2, 3, 4, 5, 6, 7, 8, 9, 10, 11, 12, 13, 14, 15, 16, 17, 18, 19, 20, 21, 22, 23, 24, 25, 26, 27, 28, 35, 38, 43, 46, 50, 56, 65, 69, 71, 72, 73, 84, 92, 96, 97, 99, 100, 101]\n",
            "[0.21177834 0.20001858 0.17266715 0.20152482 0.10241475 0.30910656\n",
            " 0.22901009 0.31199259 0.25638371 0.19465173 0.22794465 0.21563228\n",
            " 0.18505762 0.20645417 0.24001444 0.2279262  0.24194148 0.27595504\n",
            " 0.15556077 0.20151608 0.15003234 0.20392815 0.23606414 0.18367598\n",
            " 0.24809855 0.20853284 0.3146471  0.27811698 0.20567881 0.13594937\n",
            " 0.40192705 0.21068109 0.17324767 0.22660658 1.         0.4095146\n",
            " 0.01876397 0.18605145 0.14296587 0.16649306 0.28059517 0.13009843\n",
            " 0.41346427 0.21720436 0.21358328 0.06095063 0.14587713]\n",
            "Len =  47\n",
            "[(42, 0.41346426878435605), (35, 0.40951459924959965), (30, 0.40192704597018414), (26, 0.3146471005126905), (7, 0.311992594595073)]\n"
          ],
          "name": "stdout"
        },
        {
          "output_type": "execute_result",
          "data": {
            "text/plain": [
              "96    Beyond Courage: The Untold Story of Jewish Res...\n",
              "65                                             Shortcut\n",
              "38                                   A Handful of Stars\n",
              "26                                          Bossypants \n",
              "7                                        Into the Wild \n",
              "Name: name, dtype: object"
            ]
          },
          "metadata": {
            "tags": []
          },
          "execution_count": 513
        }
      ]
    },
    {
      "cell_type": "code",
      "metadata": {
        "colab": {
          "base_uri": "https://localhost:8080/",
          "height": 293
        },
        "id": "i-KQUbUl52ff",
        "outputId": "8aa020ca-c66d-4acf-a38d-e229d3e349a9"
      },
      "source": [
        "list_of_indexes = rec.index.to_list()\n",
        "test = new_df.iloc[list_of_indexes]\n",
        "test"
      ],
      "execution_count": null,
      "outputs": [
        {
          "output_type": "execute_result",
          "data": {
            "text/html": [
              "<div>\n",
              "<style scoped>\n",
              "    .dataframe tbody tr th:only-of-type {\n",
              "        vertical-align: middle;\n",
              "    }\n",
              "\n",
              "    .dataframe tbody tr th {\n",
              "        vertical-align: top;\n",
              "    }\n",
              "\n",
              "    .dataframe thead th {\n",
              "        text-align: right;\n",
              "    }\n",
              "</style>\n",
              "<table border=\"1\" class=\"dataframe\">\n",
              "  <thead>\n",
              "    <tr style=\"text-align: right;\">\n",
              "      <th></th>\n",
              "      <th>level_0</th>\n",
              "      <th>index</th>\n",
              "      <th>book_id</th>\n",
              "      <th>name</th>\n",
              "      <th>description</th>\n",
              "      <th>genre</th>\n",
              "      <th>author</th>\n",
              "      <th>avg_rating</th>\n",
              "      <th>no_of_ratings</th>\n",
              "      <th>cleaned</th>\n",
              "      <th>label</th>\n",
              "    </tr>\n",
              "  </thead>\n",
              "  <tbody>\n",
              "    <tr>\n",
              "      <th>96</th>\n",
              "      <td>116</td>\n",
              "      <td>116</td>\n",
              "      <td>2441.0</td>\n",
              "      <td>Beyond Courage: The Untold Story of Jewish Res...</td>\n",
              "      <td>Under the noses of the military, Georges Loing...</td>\n",
              "      <td>Children's Books</td>\n",
              "      <td>Doreen Rappaport</td>\n",
              "      <td>4.15</td>\n",
              "      <td>809.0</td>\n",
              "      <td>noses military georges loinger smuggles thousa...</td>\n",
              "      <td>4</td>\n",
              "    </tr>\n",
              "    <tr>\n",
              "      <th>65</th>\n",
              "      <td>65</td>\n",
              "      <td>65</td>\n",
              "      <td>322.0</td>\n",
              "      <td>Shortcut</td>\n",
              "      <td>The train tracks ran right by Bigmama's house ...</td>\n",
              "      <td>Children's Books</td>\n",
              "      <td>Donald Crews</td>\n",
              "      <td>4.00</td>\n",
              "      <td>362.0</td>\n",
              "      <td>train tracks ran right bigmama s house cottond...</td>\n",
              "      <td>8</td>\n",
              "    </tr>\n",
              "    <tr>\n",
              "      <th>38</th>\n",
              "      <td>38</td>\n",
              "      <td>38</td>\n",
              "      <td>3196.0</td>\n",
              "      <td>A Handful of Stars</td>\n",
              "      <td>This powerful middle-grade novel from the Newb...</td>\n",
              "      <td>Children's Books</td>\n",
              "      <td>Cynthia Lord</td>\n",
              "      <td>4.16</td>\n",
              "      <td>3611.0</td>\n",
              "      <td>powerful middle grade novel newbery honor auth...</td>\n",
              "      <td>7</td>\n",
              "    </tr>\n",
              "    <tr>\n",
              "      <th>26</th>\n",
              "      <td>26</td>\n",
              "      <td>26</td>\n",
              "      <td>4414.0</td>\n",
              "      <td>Bossypants</td>\n",
              "      <td>Before Liz Lemon, before \"Weekend Update,\" bef...</td>\n",
              "      <td>Biographies &amp; Memoirs</td>\n",
              "      <td>Tina Fey</td>\n",
              "      <td>3.95</td>\n",
              "      <td>6768.0</td>\n",
              "      <td>liz lemon weekend update sarah palin tina fey ...</td>\n",
              "      <td>3</td>\n",
              "    </tr>\n",
              "    <tr>\n",
              "      <th>7</th>\n",
              "      <td>7</td>\n",
              "      <td>7</td>\n",
              "      <td>3190.0</td>\n",
              "      <td>Into the Wild</td>\n",
              "      <td>In April 1992 a young man from a well-to-do fa...</td>\n",
              "      <td>Biographies &amp; Memoirs</td>\n",
              "      <td>Jon Krakauer</td>\n",
              "      <td>3.96</td>\n",
              "      <td>7275.0</td>\n",
              "      <td>april 1992 young man well to do family hitchhi...</td>\n",
              "      <td>6</td>\n",
              "    </tr>\n",
              "  </tbody>\n",
              "</table>\n",
              "</div>"
            ],
            "text/plain": [
              "    level_0  index  ...                                            cleaned label\n",
              "96      116    116  ...  noses military georges loinger smuggles thousa...     4\n",
              "65       65     65  ...  train tracks ran right bigmama s house cottond...     8\n",
              "38       38     38  ...  powerful middle grade novel newbery honor auth...     7\n",
              "26       26     26  ...  liz lemon weekend update sarah palin tina fey ...     3\n",
              "7         7      7  ...  april 1992 young man well to do family hitchhi...     6\n",
              "\n",
              "[5 rows x 11 columns]"
            ]
          },
          "metadata": {
            "tags": []
          },
          "execution_count": 514
        }
      ]
    },
    {
      "cell_type": "code",
      "metadata": {
        "id": "1SwtjnLq-51k"
      },
      "source": [
        ""
      ],
      "execution_count": null,
      "outputs": []
    }
  ]
}